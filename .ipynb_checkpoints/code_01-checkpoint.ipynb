{
 "cells": [
  {
   "cell_type": "code",
   "execution_count": 39,
   "id": "854cc657",
   "metadata": {},
   "outputs": [],
   "source": [
    "# Ambiente Python 3 - importação de bibliotecas para análise de dados \n",
    "\n",
    "import numpy as np # algebra linear\n",
    "import pandas as pd \n",
    "\n",
    "import os\n",
    "\n"
   ]
  },
  {
   "cell_type": "code",
   "execution_count": 40,
   "id": "fe5c4928",
   "metadata": {},
   "outputs": [],
   "source": [
    "import re\n",
    "import seaborn as sns\n",
    "import matplotlib.pyplot as plt\n",
    "from sklearn.model_selection import train_test_split as split\n",
    "from sklearn.metrics import confusion_matrix, classification_report, accuracy_score, pairwise_distances\n",
    "from sklearn.linear_model import LogisticRegression\n",
    "from sklearn.neighbors import KNeighborsClassifier\n",
    "from pandas.plotting import scatter_matrix\n",
    "from mpl_toolkits.mplot3d import Axes3D\n",
    "from sklearn.model_selection import train_test_split as split\n",
    "from sklearn.preprocessing import StandardScaler, MinMaxScaler\n",
    "from sklearn.preprocessing import MaxAbsScaler, LabelEncoder\n",
    "\n",
    "import warnings\n",
    "\n",
    "warnings.filterwarnings('ignore')\n",
    "%matplotlib inline"
   ]
  },
  {
   "cell_type": "code",
   "execution_count": 43,
   "id": "8780058a",
   "metadata": {
    "scrolled": false
   },
   "outputs": [],
   "source": [
    "phones = pd.read_csv(r\"C:\\Users\\HP\\Desktop\\2022\\telecom\\phone_dataset6.csv\",sep=';')"
   ]
  },
  {
   "cell_type": "code",
   "execution_count": 44,
   "id": "23cde095",
   "metadata": {},
   "outputs": [
    {
     "data": {
      "text/html": [
       "<div>\n",
       "<style scoped>\n",
       "    .dataframe tbody tr th:only-of-type {\n",
       "        vertical-align: middle;\n",
       "    }\n",
       "\n",
       "    .dataframe tbody tr th {\n",
       "        vertical-align: top;\n",
       "    }\n",
       "\n",
       "    .dataframe thead th {\n",
       "        text-align: right;\n",
       "    }\n",
       "</style>\n",
       "<table border=\"1\" class=\"dataframe\">\n",
       "  <thead>\n",
       "    <tr style=\"text-align: right;\">\n",
       "      <th></th>\n",
       "      <th>brand</th>\n",
       "      <th>model</th>\n",
       "      <th>network_technology</th>\n",
       "      <th>2G_bands</th>\n",
       "      <th>3G_bands</th>\n",
       "      <th>4G_bands</th>\n",
       "      <th>network_speed</th>\n",
       "      <th>GPRS</th>\n",
       "      <th>EDGE</th>\n",
       "      <th>announced</th>\n",
       "      <th>...</th>\n",
       "      <th>bluetooth</th>\n",
       "      <th>GPS</th>\n",
       "      <th>NFC</th>\n",
       "      <th>radio</th>\n",
       "      <th>USB</th>\n",
       "      <th>sensors</th>\n",
       "      <th>battery</th>\n",
       "      <th>colors</th>\n",
       "      <th>approx_price_EUR</th>\n",
       "      <th>img_url</th>\n",
       "    </tr>\n",
       "  </thead>\n",
       "  <tbody>\n",
       "    <tr>\n",
       "      <th>0</th>\n",
       "      <td>Acer</td>\n",
       "      <td>Iconia Talk S</td>\n",
       "      <td>GSM / HSPA / LTE</td>\n",
       "      <td>GSM 850 / 900 / 1800 / 1900 - SIM 1 &amp; SIM 2</td>\n",
       "      <td>HSDPA 850 / 1900 / 2100</td>\n",
       "      <td>LTE band 1(2100)| 3(1800)| 7(2600)| 8(900)| 20...</td>\n",
       "      <td>HSPA 42.2/11.5 Mbps  LTE Cat4 150/50 Mbps</td>\n",
       "      <td>Yes</td>\n",
       "      <td>Yes</td>\n",
       "      <td>2016  August</td>\n",
       "      <td>...</td>\n",
       "      <td>4.0| A2DP</td>\n",
       "      <td>Yes with A-GPS GLONASS</td>\n",
       "      <td>NaN</td>\n",
       "      <td>FM radio</td>\n",
       "      <td>microUSB 2.0</td>\n",
       "      <td>Accelerometer| proximity</td>\n",
       "      <td>Non-removable Li-Ion 3400 mAh battery (12.92 Wh)</td>\n",
       "      <td>Black</td>\n",
       "      <td>170.0</td>\n",
       "      <td>http://cdn2.gsmarena.com/vv/bigpic/acer-iconia...</td>\n",
       "    </tr>\n",
       "    <tr>\n",
       "      <th>1</th>\n",
       "      <td>Acer</td>\n",
       "      <td>Liquid Z6 Plus</td>\n",
       "      <td>GSM / HSPA / LTE</td>\n",
       "      <td>GSM 850 / 900 / 1800 / 1900 - SIM 1 &amp; SIM 2 (d...</td>\n",
       "      <td>HSDPA</td>\n",
       "      <td>LTE</td>\n",
       "      <td>HSPA 42.2/5.76 Mbps  LTE Cat4 150/50 Mbps</td>\n",
       "      <td>Yes</td>\n",
       "      <td>Yes</td>\n",
       "      <td>2016  August</td>\n",
       "      <td>...</td>\n",
       "      <td>4.0| A2DP</td>\n",
       "      <td>Yes with A-GPS</td>\n",
       "      <td>NaN</td>\n",
       "      <td>FM radio</td>\n",
       "      <td>microUSB 2.0</td>\n",
       "      <td>Fingerprint (front-mounted)| accelerometer| pr...</td>\n",
       "      <td>Removable Li-Po 4080 mAh battery</td>\n",
       "      <td>Black| White</td>\n",
       "      <td>250.0</td>\n",
       "      <td>http://cdn2.gsmarena.com/vv/bigpic/acer-liquid...</td>\n",
       "    </tr>\n",
       "    <tr>\n",
       "      <th>2</th>\n",
       "      <td>Acer</td>\n",
       "      <td>Liquid Z6</td>\n",
       "      <td>GSM / HSPA / LTE</td>\n",
       "      <td>GSM 850 / 900 / 1800 / 1900 - SIM 1 &amp; SIM 2 (d...</td>\n",
       "      <td>HSDPA</td>\n",
       "      <td>LTE</td>\n",
       "      <td>HSPA  LTE</td>\n",
       "      <td>Yes</td>\n",
       "      <td>Yes</td>\n",
       "      <td>2016  August</td>\n",
       "      <td>...</td>\n",
       "      <td>Yes</td>\n",
       "      <td>Yes with A-GPS</td>\n",
       "      <td>NaN</td>\n",
       "      <td>FM radio</td>\n",
       "      <td>microUSB 2.0</td>\n",
       "      <td>Accelerometer| proximity</td>\n",
       "      <td>Removable Li-Ion 2000 mAh battery</td>\n",
       "      <td>Black| White</td>\n",
       "      <td>120.0</td>\n",
       "      <td>http://cdn2.gsmarena.com/vv/bigpic/acer-liquid...</td>\n",
       "    </tr>\n",
       "    <tr>\n",
       "      <th>3</th>\n",
       "      <td>Acer</td>\n",
       "      <td>Iconia Tab 10 A3-A40</td>\n",
       "      <td>No cellular connectivity</td>\n",
       "      <td>N/A</td>\n",
       "      <td>NaN</td>\n",
       "      <td>NaN</td>\n",
       "      <td>NaN</td>\n",
       "      <td>No</td>\n",
       "      <td>No</td>\n",
       "      <td>2016  April</td>\n",
       "      <td>...</td>\n",
       "      <td>Yes</td>\n",
       "      <td>NaN</td>\n",
       "      <td>NaN</td>\n",
       "      <td>No</td>\n",
       "      <td>microUSB 2.0</td>\n",
       "      <td>Accelerometer</td>\n",
       "      <td>Non-removable Li-Ion battery</td>\n",
       "      <td>Black</td>\n",
       "      <td>230.0</td>\n",
       "      <td>http://cdn2.gsmarena.com/vv/bigpic/acer-iconia...</td>\n",
       "    </tr>\n",
       "    <tr>\n",
       "      <th>4</th>\n",
       "      <td>Acer</td>\n",
       "      <td>Liquid X2</td>\n",
       "      <td>GSM / HSPA / LTE</td>\n",
       "      <td>GSM 850 / 900 / 1800 / 1900</td>\n",
       "      <td>HSDPA 900 / 1900 / 2100 - Europe| Taiwan</td>\n",
       "      <td>LTE 800 / 1800 / 2100 / 2600 - Europe</td>\n",
       "      <td>HSPA 42.2/5.76 Mbps  LTE Cat4 150/50 Mbps</td>\n",
       "      <td>Yes</td>\n",
       "      <td>Yes</td>\n",
       "      <td>2015  April</td>\n",
       "      <td>...</td>\n",
       "      <td>4.0| A2DP| LE</td>\n",
       "      <td>Yes with A-GPS</td>\n",
       "      <td>NaN</td>\n",
       "      <td>FM radio</td>\n",
       "      <td>microUSB 2.0</td>\n",
       "      <td>Accelerometer| proximity| compass</td>\n",
       "      <td>Removable Li-Po 4020 mAh battery</td>\n",
       "      <td>Black| Gold</td>\n",
       "      <td>230.0</td>\n",
       "      <td>http://cdn2.gsmarena.com/vv/bigpic/acer-liquid...</td>\n",
       "    </tr>\n",
       "  </tbody>\n",
       "</table>\n",
       "<p>5 rows × 40 columns</p>\n",
       "</div>"
      ],
      "text/plain": [
       "  brand                 model        network_technology  \\\n",
       "0  Acer         Iconia Talk S          GSM / HSPA / LTE   \n",
       "1  Acer        Liquid Z6 Plus          GSM / HSPA / LTE   \n",
       "2  Acer             Liquid Z6          GSM / HSPA / LTE   \n",
       "3  Acer  Iconia Tab 10 A3-A40  No cellular connectivity   \n",
       "4  Acer             Liquid X2          GSM / HSPA / LTE   \n",
       "\n",
       "                                            2G_bands  \\\n",
       "0        GSM 850 / 900 / 1800 / 1900 - SIM 1 & SIM 2   \n",
       "1  GSM 850 / 900 / 1800 / 1900 - SIM 1 & SIM 2 (d...   \n",
       "2  GSM 850 / 900 / 1800 / 1900 - SIM 1 & SIM 2 (d...   \n",
       "3                                                N/A   \n",
       "4                       GSM 850 / 900 / 1800 / 1900    \n",
       "\n",
       "                                   3G_bands  \\\n",
       "0                  HSDPA 850 / 1900 / 2100    \n",
       "1                                     HSDPA   \n",
       "2                                     HSDPA   \n",
       "3                                       NaN   \n",
       "4  HSDPA 900 / 1900 / 2100 - Europe| Taiwan   \n",
       "\n",
       "                                            4G_bands  \\\n",
       "0  LTE band 1(2100)| 3(1800)| 7(2600)| 8(900)| 20...   \n",
       "1                                                LTE   \n",
       "2                                                LTE   \n",
       "3                                                NaN   \n",
       "4              LTE 800 / 1800 / 2100 / 2600 - Europe   \n",
       "\n",
       "                               network_speed GPRS EDGE     announced  ...  \\\n",
       "0  HSPA 42.2/11.5 Mbps  LTE Cat4 150/50 Mbps  Yes  Yes  2016  August  ...   \n",
       "1  HSPA 42.2/5.76 Mbps  LTE Cat4 150/50 Mbps  Yes  Yes  2016  August  ...   \n",
       "2                                  HSPA  LTE  Yes  Yes  2016  August  ...   \n",
       "3                                        NaN   No   No   2016  April  ...   \n",
       "4  HSPA 42.2/5.76 Mbps  LTE Cat4 150/50 Mbps  Yes  Yes   2015  April  ...   \n",
       "\n",
       "       bluetooth                     GPS  NFC     radio           USB  \\\n",
       "0      4.0| A2DP  Yes with A-GPS GLONASS  NaN  FM radio  microUSB 2.0   \n",
       "1      4.0| A2DP          Yes with A-GPS  NaN  FM radio  microUSB 2.0   \n",
       "2            Yes          Yes with A-GPS  NaN  FM radio  microUSB 2.0   \n",
       "3            Yes                     NaN  NaN        No  microUSB 2.0   \n",
       "4  4.0| A2DP| LE          Yes with A-GPS  NaN  FM radio  microUSB 2.0   \n",
       "\n",
       "                                             sensors  \\\n",
       "0                           Accelerometer| proximity   \n",
       "1  Fingerprint (front-mounted)| accelerometer| pr...   \n",
       "2                           Accelerometer| proximity   \n",
       "3                                      Accelerometer   \n",
       "4                  Accelerometer| proximity| compass   \n",
       "\n",
       "                                            battery        colors  \\\n",
       "0  Non-removable Li-Ion 3400 mAh battery (12.92 Wh)         Black   \n",
       "1                  Removable Li-Po 4080 mAh battery  Black| White   \n",
       "2                 Removable Li-Ion 2000 mAh battery  Black| White   \n",
       "3                      Non-removable Li-Ion battery         Black   \n",
       "4                  Removable Li-Po 4020 mAh battery   Black| Gold   \n",
       "\n",
       "  approx_price_EUR                                            img_url  \n",
       "0            170.0  http://cdn2.gsmarena.com/vv/bigpic/acer-iconia...  \n",
       "1            250.0  http://cdn2.gsmarena.com/vv/bigpic/acer-liquid...  \n",
       "2            120.0  http://cdn2.gsmarena.com/vv/bigpic/acer-liquid...  \n",
       "3            230.0  http://cdn2.gsmarena.com/vv/bigpic/acer-iconia...  \n",
       "4            230.0  http://cdn2.gsmarena.com/vv/bigpic/acer-liquid...  \n",
       "\n",
       "[5 rows x 40 columns]"
      ]
     },
     "execution_count": 44,
     "metadata": {},
     "output_type": "execute_result"
    }
   ],
   "source": [
    "#Exibir o dataset\n",
    "phones.head()"
   ]
  },
  {
   "cell_type": "code",
   "execution_count": 45,
   "id": "b9656607",
   "metadata": {},
   "outputs": [
    {
     "name": "stdout",
     "output_type": "stream",
     "text": [
      "<class 'pandas.core.frame.DataFrame'>\n",
      "RangeIndex: 61 entries, 0 to 60\n",
      "Data columns (total 40 columns):\n",
      " #   Column              Non-Null Count  Dtype  \n",
      "---  ------              --------------  -----  \n",
      " 0   brand               61 non-null     object \n",
      " 1   model               61 non-null     object \n",
      " 2   network_technology  61 non-null     object \n",
      " 3   2G_bands            61 non-null     object \n",
      " 4   3G_bands            49 non-null     object \n",
      " 5   4G_bands            23 non-null     object \n",
      " 6   network_speed       49 non-null     object \n",
      " 7   GPRS                61 non-null     object \n",
      " 8   EDGE                61 non-null     object \n",
      " 9   announced           61 non-null     object \n",
      " 10  status              61 non-null     object \n",
      " 11  dimentions          61 non-null     object \n",
      " 12  weight_g            55 non-null     float64\n",
      " 13  weight_oz           55 non-null     float64\n",
      " 14  SIM                 61 non-null     object \n",
      " 15  display_type        61 non-null     object \n",
      " 16  display_resolution  61 non-null     object \n",
      " 17  display_size        61 non-null     object \n",
      " 18  OS                  59 non-null     object \n",
      " 19  CPU                 59 non-null     object \n",
      " 20  Chipset             48 non-null     object \n",
      " 21  GPU                 44 non-null     object \n",
      " 22  memory_card         61 non-null     object \n",
      " 23  internal_memory     59 non-null     object \n",
      " 24  RAM                 59 non-null     object \n",
      " 25  primary_camera      60 non-null     object \n",
      " 26  secondary_camera    60 non-null     object \n",
      " 27  loud_speaker        61 non-null     object \n",
      " 28  audio_jack          61 non-null     object \n",
      " 29  WLAN                61 non-null     object \n",
      " 30  bluetooth           61 non-null     object \n",
      " 31  GPS                 59 non-null     object \n",
      " 32  NFC                 7 non-null      object \n",
      " 33  radio               61 non-null     object \n",
      " 34  USB                 61 non-null     object \n",
      " 35  sensors             59 non-null     object \n",
      " 36  battery             60 non-null     object \n",
      " 37  colors              61 non-null     object \n",
      " 38  approx_price_EUR    54 non-null     float64\n",
      " 39  img_url             61 non-null     object \n",
      "dtypes: float64(3), object(37)\n",
      "memory usage: 19.2+ KB\n"
     ]
    }
   ],
   "source": [
    "phones.info()"
   ]
  },
  {
   "cell_type": "code",
   "execution_count": 46,
   "id": "a933392f",
   "metadata": {},
   "outputs": [
    {
     "data": {
      "text/plain": [
       "brand                  0\n",
       "model                  0\n",
       "network_technology     0\n",
       "2G_bands               0\n",
       "3G_bands              12\n",
       "4G_bands              38\n",
       "network_speed         12\n",
       "GPRS                   0\n",
       "EDGE                   0\n",
       "announced              0\n",
       "status                 0\n",
       "dimentions             0\n",
       "weight_g               6\n",
       "weight_oz              6\n",
       "SIM                    0\n",
       "display_type           0\n",
       "display_resolution     0\n",
       "display_size           0\n",
       "OS                     2\n",
       "CPU                    2\n",
       "Chipset               13\n",
       "GPU                   17\n",
       "memory_card            0\n",
       "internal_memory        2\n",
       "RAM                    2\n",
       "primary_camera         1\n",
       "secondary_camera       1\n",
       "loud_speaker           0\n",
       "audio_jack             0\n",
       "WLAN                   0\n",
       "bluetooth              0\n",
       "GPS                    2\n",
       "NFC                   54\n",
       "radio                  0\n",
       "USB                    0\n",
       "sensors                2\n",
       "battery                1\n",
       "colors                 0\n",
       "approx_price_EUR       7\n",
       "img_url                0\n",
       "dtype: int64"
      ]
     },
     "execution_count": 46,
     "metadata": {},
     "output_type": "execute_result"
    }
   ],
   "source": [
    "#verificar o número de nulls em cada coluna\n",
    "phones.isnull().sum()"
   ]
  },
  {
   "cell_type": "code",
   "execution_count": 47,
   "id": "3701d326",
   "metadata": {},
   "outputs": [
    {
     "data": {
      "text/plain": [
       "brand                  2\n",
       "model                 61\n",
       "network_technology     4\n",
       "2G_bands              10\n",
       "3G_bands              12\n",
       "4G_bands              10\n",
       "network_speed         10\n",
       "GPRS                   2\n",
       "EDGE                   3\n",
       "announced             19\n",
       "status                31\n",
       "dimentions            50\n",
       "weight_g              37\n",
       "weight_oz             37\n",
       "SIM                   14\n",
       "display_type          10\n",
       "display_resolution    49\n",
       "display_size          27\n",
       "OS                    17\n",
       "CPU                   28\n",
       "Chipset               30\n",
       "GPU                   18\n",
       "memory_card           11\n",
       "internal_memory       10\n",
       "RAM                   11\n",
       "primary_camera        19\n",
       "secondary_camera      15\n",
       "loud_speaker           4\n",
       "audio_jack             1\n",
       "WLAN                  16\n",
       "bluetooth              8\n",
       "GPS                    6\n",
       "NFC                    4\n",
       "radio                  7\n",
       "USB                    4\n",
       "sensors                8\n",
       "battery               37\n",
       "colors                33\n",
       "approx_price_EUR      26\n",
       "img_url               54\n",
       "dtype: int64"
      ]
     },
     "execution_count": 47,
     "metadata": {},
     "output_type": "execute_result"
    }
   ],
   "source": [
    "# número de valores únicos em cada coluna\n",
    "phones.nunique()"
   ]
  },
  {
   "cell_type": "code",
   "execution_count": 48,
   "id": "38edccc6",
   "metadata": {},
   "outputs": [],
   "source": [
    "# Preparação do dataset\n",
    "#remover coluna img_url\n",
    "phones.drop(columns=['img_url'],inplace=True)"
   ]
  },
  {
   "cell_type": "code",
   "execution_count": 53,
   "id": "4c325e6a",
   "metadata": {},
   "outputs": [
    {
     "data": {
      "text/html": [
       "<div>\n",
       "<style scoped>\n",
       "    .dataframe tbody tr th:only-of-type {\n",
       "        vertical-align: middle;\n",
       "    }\n",
       "\n",
       "    .dataframe tbody tr th {\n",
       "        vertical-align: top;\n",
       "    }\n",
       "\n",
       "    .dataframe thead th {\n",
       "        text-align: right;\n",
       "    }\n",
       "</style>\n",
       "<table border=\"1\" class=\"dataframe\">\n",
       "  <thead>\n",
       "    <tr style=\"text-align: right;\">\n",
       "      <th></th>\n",
       "      <th>brand</th>\n",
       "      <th>model</th>\n",
       "      <th>network_technology</th>\n",
       "      <th>2G_bands</th>\n",
       "      <th>3G_bands</th>\n",
       "      <th>4G_bands</th>\n",
       "      <th>network_speed</th>\n",
       "      <th>GPRS</th>\n",
       "      <th>EDGE</th>\n",
       "      <th>announced</th>\n",
       "      <th>...</th>\n",
       "      <th>WLAN</th>\n",
       "      <th>bluetooth</th>\n",
       "      <th>GPS</th>\n",
       "      <th>NFC</th>\n",
       "      <th>radio</th>\n",
       "      <th>USB</th>\n",
       "      <th>sensors</th>\n",
       "      <th>battery</th>\n",
       "      <th>colors</th>\n",
       "      <th>approx_price_EUR</th>\n",
       "    </tr>\n",
       "  </thead>\n",
       "  <tbody>\n",
       "    <tr>\n",
       "      <th>0</th>\n",
       "      <td>Acer</td>\n",
       "      <td>Iconia Talk S</td>\n",
       "      <td>GSM / HSPA / LTE</td>\n",
       "      <td>GSM 850 / 900 / 1800 / 1900 - SIM 1 &amp; SIM 2</td>\n",
       "      <td>HSDPA 850 / 1900 / 2100</td>\n",
       "      <td>LTE band 1(2100)| 3(1800)| 7(2600)| 8(900)| 20...</td>\n",
       "      <td>HSPA 42.2/11.5 Mbps  LTE Cat4 150/50 Mbps</td>\n",
       "      <td>Yes</td>\n",
       "      <td>Yes</td>\n",
       "      <td>2016  August</td>\n",
       "      <td>...</td>\n",
       "      <td>Wi-Fi 802.11 a/b/g/n| Wi-Fi Direct| hotspot</td>\n",
       "      <td>4.0| A2DP</td>\n",
       "      <td>Yes with A-GPS GLONASS</td>\n",
       "      <td>NaN</td>\n",
       "      <td>FM radio</td>\n",
       "      <td>microUSB 2.0</td>\n",
       "      <td>Accelerometer| proximity</td>\n",
       "      <td>Non-removable Li-Ion 3400 mAh battery (12.92 Wh)</td>\n",
       "      <td>Black</td>\n",
       "      <td>170.0</td>\n",
       "    </tr>\n",
       "    <tr>\n",
       "      <th>1</th>\n",
       "      <td>Acer</td>\n",
       "      <td>Liquid Z6 Plus</td>\n",
       "      <td>GSM / HSPA / LTE</td>\n",
       "      <td>GSM 850 / 900 / 1800 / 1900 - SIM 1 &amp; SIM 2 (d...</td>\n",
       "      <td>HSDPA</td>\n",
       "      <td>LTE</td>\n",
       "      <td>HSPA 42.2/5.76 Mbps  LTE Cat4 150/50 Mbps</td>\n",
       "      <td>Yes</td>\n",
       "      <td>Yes</td>\n",
       "      <td>2016  August</td>\n",
       "      <td>...</td>\n",
       "      <td>Wi-Fi 802.11 b/g/n| Wi-Fi Direct| hotspot</td>\n",
       "      <td>4.0| A2DP</td>\n",
       "      <td>Yes with A-GPS</td>\n",
       "      <td>NaN</td>\n",
       "      <td>FM radio</td>\n",
       "      <td>microUSB 2.0</td>\n",
       "      <td>Fingerprint (front-mounted)| accelerometer| pr...</td>\n",
       "      <td>Removable Li-Po 4080 mAh battery</td>\n",
       "      <td>Black| White</td>\n",
       "      <td>250.0</td>\n",
       "    </tr>\n",
       "    <tr>\n",
       "      <th>2</th>\n",
       "      <td>Acer</td>\n",
       "      <td>Liquid Z6</td>\n",
       "      <td>GSM / HSPA / LTE</td>\n",
       "      <td>GSM 850 / 900 / 1800 / 1900 - SIM 1 &amp; SIM 2 (d...</td>\n",
       "      <td>HSDPA</td>\n",
       "      <td>LTE</td>\n",
       "      <td>HSPA  LTE</td>\n",
       "      <td>Yes</td>\n",
       "      <td>Yes</td>\n",
       "      <td>2016  August</td>\n",
       "      <td>...</td>\n",
       "      <td>Yes</td>\n",
       "      <td>Yes</td>\n",
       "      <td>Yes with A-GPS</td>\n",
       "      <td>NaN</td>\n",
       "      <td>FM radio</td>\n",
       "      <td>microUSB 2.0</td>\n",
       "      <td>Accelerometer| proximity</td>\n",
       "      <td>Removable Li-Ion 2000 mAh battery</td>\n",
       "      <td>Black| White</td>\n",
       "      <td>120.0</td>\n",
       "    </tr>\n",
       "    <tr>\n",
       "      <th>3</th>\n",
       "      <td>Acer</td>\n",
       "      <td>Iconia Tab 10 A3-A40</td>\n",
       "      <td>No cellular connectivity</td>\n",
       "      <td>N/A</td>\n",
       "      <td>NaN</td>\n",
       "      <td>NaN</td>\n",
       "      <td>NaN</td>\n",
       "      <td>No</td>\n",
       "      <td>No</td>\n",
       "      <td>2016  April</td>\n",
       "      <td>...</td>\n",
       "      <td>Wi-Fi 802.11 a/b/g/n/ac| dual-band| hotspot</td>\n",
       "      <td>Yes</td>\n",
       "      <td>NaN</td>\n",
       "      <td>NaN</td>\n",
       "      <td>No</td>\n",
       "      <td>microUSB 2.0</td>\n",
       "      <td>Accelerometer</td>\n",
       "      <td>Non-removable Li-Ion battery</td>\n",
       "      <td>Black</td>\n",
       "      <td>230.0</td>\n",
       "    </tr>\n",
       "    <tr>\n",
       "      <th>4</th>\n",
       "      <td>Acer</td>\n",
       "      <td>Liquid X2</td>\n",
       "      <td>GSM / HSPA / LTE</td>\n",
       "      <td>GSM 850 / 900 / 1800 / 1900</td>\n",
       "      <td>HSDPA 900 / 1900 / 2100 - Europe| Taiwan</td>\n",
       "      <td>LTE 800 / 1800 / 2100 / 2600 - Europe</td>\n",
       "      <td>HSPA 42.2/5.76 Mbps  LTE Cat4 150/50 Mbps</td>\n",
       "      <td>Yes</td>\n",
       "      <td>Yes</td>\n",
       "      <td>2015  April</td>\n",
       "      <td>...</td>\n",
       "      <td>Wi-Fi 802.11 b/g/n| hotspot</td>\n",
       "      <td>4.0| A2DP| LE</td>\n",
       "      <td>Yes with A-GPS</td>\n",
       "      <td>NaN</td>\n",
       "      <td>FM radio</td>\n",
       "      <td>microUSB 2.0</td>\n",
       "      <td>Accelerometer| proximity| compass</td>\n",
       "      <td>Removable Li-Po 4020 mAh battery</td>\n",
       "      <td>Black| Gold</td>\n",
       "      <td>230.0</td>\n",
       "    </tr>\n",
       "  </tbody>\n",
       "</table>\n",
       "<p>5 rows × 39 columns</p>\n",
       "</div>"
      ],
      "text/plain": [
       "  brand                 model        network_technology  \\\n",
       "0  Acer         Iconia Talk S          GSM / HSPA / LTE   \n",
       "1  Acer        Liquid Z6 Plus          GSM / HSPA / LTE   \n",
       "2  Acer             Liquid Z6          GSM / HSPA / LTE   \n",
       "3  Acer  Iconia Tab 10 A3-A40  No cellular connectivity   \n",
       "4  Acer             Liquid X2          GSM / HSPA / LTE   \n",
       "\n",
       "                                            2G_bands  \\\n",
       "0        GSM 850 / 900 / 1800 / 1900 - SIM 1 & SIM 2   \n",
       "1  GSM 850 / 900 / 1800 / 1900 - SIM 1 & SIM 2 (d...   \n",
       "2  GSM 850 / 900 / 1800 / 1900 - SIM 1 & SIM 2 (d...   \n",
       "3                                                N/A   \n",
       "4                       GSM 850 / 900 / 1800 / 1900    \n",
       "\n",
       "                                   3G_bands  \\\n",
       "0                  HSDPA 850 / 1900 / 2100    \n",
       "1                                     HSDPA   \n",
       "2                                     HSDPA   \n",
       "3                                       NaN   \n",
       "4  HSDPA 900 / 1900 / 2100 - Europe| Taiwan   \n",
       "\n",
       "                                            4G_bands  \\\n",
       "0  LTE band 1(2100)| 3(1800)| 7(2600)| 8(900)| 20...   \n",
       "1                                                LTE   \n",
       "2                                                LTE   \n",
       "3                                                NaN   \n",
       "4              LTE 800 / 1800 / 2100 / 2600 - Europe   \n",
       "\n",
       "                               network_speed GPRS EDGE     announced  ...  \\\n",
       "0  HSPA 42.2/11.5 Mbps  LTE Cat4 150/50 Mbps  Yes  Yes  2016  August  ...   \n",
       "1  HSPA 42.2/5.76 Mbps  LTE Cat4 150/50 Mbps  Yes  Yes  2016  August  ...   \n",
       "2                                  HSPA  LTE  Yes  Yes  2016  August  ...   \n",
       "3                                        NaN   No   No   2016  April  ...   \n",
       "4  HSPA 42.2/5.76 Mbps  LTE Cat4 150/50 Mbps  Yes  Yes   2015  April  ...   \n",
       "\n",
       "                                          WLAN      bluetooth  \\\n",
       "0  Wi-Fi 802.11 a/b/g/n| Wi-Fi Direct| hotspot      4.0| A2DP   \n",
       "1    Wi-Fi 802.11 b/g/n| Wi-Fi Direct| hotspot      4.0| A2DP   \n",
       "2                                          Yes            Yes   \n",
       "3  Wi-Fi 802.11 a/b/g/n/ac| dual-band| hotspot            Yes   \n",
       "4                  Wi-Fi 802.11 b/g/n| hotspot  4.0| A2DP| LE   \n",
       "\n",
       "                      GPS  NFC     radio           USB  \\\n",
       "0  Yes with A-GPS GLONASS  NaN  FM radio  microUSB 2.0   \n",
       "1          Yes with A-GPS  NaN  FM radio  microUSB 2.0   \n",
       "2          Yes with A-GPS  NaN  FM radio  microUSB 2.0   \n",
       "3                     NaN  NaN        No  microUSB 2.0   \n",
       "4          Yes with A-GPS  NaN  FM radio  microUSB 2.0   \n",
       "\n",
       "                                             sensors  \\\n",
       "0                           Accelerometer| proximity   \n",
       "1  Fingerprint (front-mounted)| accelerometer| pr...   \n",
       "2                           Accelerometer| proximity   \n",
       "3                                      Accelerometer   \n",
       "4                  Accelerometer| proximity| compass   \n",
       "\n",
       "                                            battery        colors  \\\n",
       "0  Non-removable Li-Ion 3400 mAh battery (12.92 Wh)         Black   \n",
       "1                  Removable Li-Po 4080 mAh battery  Black| White   \n",
       "2                 Removable Li-Ion 2000 mAh battery  Black| White   \n",
       "3                      Non-removable Li-Ion battery         Black   \n",
       "4                  Removable Li-Po 4020 mAh battery   Black| Gold   \n",
       "\n",
       "  approx_price_EUR  \n",
       "0            170.0  \n",
       "1            250.0  \n",
       "2            120.0  \n",
       "3            230.0  \n",
       "4            230.0  \n",
       "\n",
       "[5 rows x 39 columns]"
      ]
     },
     "execution_count": 53,
     "metadata": {},
     "output_type": "execute_result"
    }
   ],
   "source": [
    "phones.head()"
   ]
  },
  {
   "cell_type": "code",
   "execution_count": 56,
   "id": "cdeaae98",
   "metadata": {},
   "outputs": [],
   "source": [
    "# função para trocar removable battery data paraa boolean \n",
    "def removable(battery):\n",
    "    if battery[0] == 'Removable':\n",
    "        return True\n",
    "    elif battery[0] == 'Non-removable':\n",
    "        return False\n",
    "    else:\n",
    "        return np.nan"
   ]
  },
  {
   "cell_type": "code",
   "execution_count": 58,
   "id": "27112c00",
   "metadata": {},
   "outputs": [],
   "source": [
    "# Procura por expressões regulares em battery column strings\n",
    "# O método t 'findall' retorna lista com elemento simples. \n",
    "a = phones.battery.astype(str).apply(lambda x: \n",
    "                                        (re.findall('(Non-removable|Removable|)\\s*(Li-Ion|Li-Po|Li-ion|Li-po|NiMH|)\\s*(\\d*)',x))) \n",
    "\n",
    "phones['battery_removable'] = a.apply(lambda x: removable(x[0])) # the first regex indicates 'removable' / 'non-removable'\n",
    "phones['battery_type'] = a.apply(lambda x: (x[0])[1]) # the second regex indicates 'Li-Ion' / 'Li-Po' / 'Li-ion' / 'Li-po' / 'NiMH'\n",
    "#phones['battery_mah'] = a.apply(lambda x: ((x[0])[2])).convert_objects(convert_numeric=True) # the third regex gives the numerical data for mah"
   ]
  },
  {
   "cell_type": "code",
   "execution_count": 59,
   "id": "4060f875",
   "metadata": {},
   "outputs": [
    {
     "data": {
      "text/html": [
       "<div>\n",
       "<style scoped>\n",
       "    .dataframe tbody tr th:only-of-type {\n",
       "        vertical-align: middle;\n",
       "    }\n",
       "\n",
       "    .dataframe tbody tr th {\n",
       "        vertical-align: top;\n",
       "    }\n",
       "\n",
       "    .dataframe thead th {\n",
       "        text-align: right;\n",
       "    }\n",
       "</style>\n",
       "<table border=\"1\" class=\"dataframe\">\n",
       "  <thead>\n",
       "    <tr style=\"text-align: right;\">\n",
       "      <th></th>\n",
       "      <th>brand</th>\n",
       "      <th>model</th>\n",
       "      <th>network_technology</th>\n",
       "      <th>2G_bands</th>\n",
       "      <th>3G_bands</th>\n",
       "      <th>4G_bands</th>\n",
       "      <th>network_speed</th>\n",
       "      <th>GPRS</th>\n",
       "      <th>EDGE</th>\n",
       "      <th>announced</th>\n",
       "      <th>...</th>\n",
       "      <th>GPS</th>\n",
       "      <th>NFC</th>\n",
       "      <th>radio</th>\n",
       "      <th>USB</th>\n",
       "      <th>sensors</th>\n",
       "      <th>battery</th>\n",
       "      <th>colors</th>\n",
       "      <th>approx_price_EUR</th>\n",
       "      <th>battery_removable</th>\n",
       "      <th>battery_type</th>\n",
       "    </tr>\n",
       "  </thead>\n",
       "  <tbody>\n",
       "    <tr>\n",
       "      <th>0</th>\n",
       "      <td>Acer</td>\n",
       "      <td>Iconia Talk S</td>\n",
       "      <td>GSM / HSPA / LTE</td>\n",
       "      <td>GSM 850 / 900 / 1800 / 1900 - SIM 1 &amp; SIM 2</td>\n",
       "      <td>HSDPA 850 / 1900 / 2100</td>\n",
       "      <td>LTE band 1(2100)| 3(1800)| 7(2600)| 8(900)| 20...</td>\n",
       "      <td>HSPA 42.2/11.5 Mbps  LTE Cat4 150/50 Mbps</td>\n",
       "      <td>Yes</td>\n",
       "      <td>Yes</td>\n",
       "      <td>2016  August</td>\n",
       "      <td>...</td>\n",
       "      <td>Yes with A-GPS GLONASS</td>\n",
       "      <td>NaN</td>\n",
       "      <td>FM radio</td>\n",
       "      <td>microUSB 2.0</td>\n",
       "      <td>Accelerometer| proximity</td>\n",
       "      <td>Non-removable Li-Ion 3400 mAh battery (12.92 Wh)</td>\n",
       "      <td>Black</td>\n",
       "      <td>170.0</td>\n",
       "      <td>False</td>\n",
       "      <td>Li-Ion</td>\n",
       "    </tr>\n",
       "    <tr>\n",
       "      <th>1</th>\n",
       "      <td>Acer</td>\n",
       "      <td>Liquid Z6 Plus</td>\n",
       "      <td>GSM / HSPA / LTE</td>\n",
       "      <td>GSM 850 / 900 / 1800 / 1900 - SIM 1 &amp; SIM 2 (d...</td>\n",
       "      <td>HSDPA</td>\n",
       "      <td>LTE</td>\n",
       "      <td>HSPA 42.2/5.76 Mbps  LTE Cat4 150/50 Mbps</td>\n",
       "      <td>Yes</td>\n",
       "      <td>Yes</td>\n",
       "      <td>2016  August</td>\n",
       "      <td>...</td>\n",
       "      <td>Yes with A-GPS</td>\n",
       "      <td>NaN</td>\n",
       "      <td>FM radio</td>\n",
       "      <td>microUSB 2.0</td>\n",
       "      <td>Fingerprint (front-mounted)| accelerometer| pr...</td>\n",
       "      <td>Removable Li-Po 4080 mAh battery</td>\n",
       "      <td>Black| White</td>\n",
       "      <td>250.0</td>\n",
       "      <td>True</td>\n",
       "      <td>Li-Po</td>\n",
       "    </tr>\n",
       "    <tr>\n",
       "      <th>2</th>\n",
       "      <td>Acer</td>\n",
       "      <td>Liquid Z6</td>\n",
       "      <td>GSM / HSPA / LTE</td>\n",
       "      <td>GSM 850 / 900 / 1800 / 1900 - SIM 1 &amp; SIM 2 (d...</td>\n",
       "      <td>HSDPA</td>\n",
       "      <td>LTE</td>\n",
       "      <td>HSPA  LTE</td>\n",
       "      <td>Yes</td>\n",
       "      <td>Yes</td>\n",
       "      <td>2016  August</td>\n",
       "      <td>...</td>\n",
       "      <td>Yes with A-GPS</td>\n",
       "      <td>NaN</td>\n",
       "      <td>FM radio</td>\n",
       "      <td>microUSB 2.0</td>\n",
       "      <td>Accelerometer| proximity</td>\n",
       "      <td>Removable Li-Ion 2000 mAh battery</td>\n",
       "      <td>Black| White</td>\n",
       "      <td>120.0</td>\n",
       "      <td>True</td>\n",
       "      <td>Li-Ion</td>\n",
       "    </tr>\n",
       "    <tr>\n",
       "      <th>3</th>\n",
       "      <td>Acer</td>\n",
       "      <td>Iconia Tab 10 A3-A40</td>\n",
       "      <td>No cellular connectivity</td>\n",
       "      <td>N/A</td>\n",
       "      <td>NaN</td>\n",
       "      <td>NaN</td>\n",
       "      <td>NaN</td>\n",
       "      <td>No</td>\n",
       "      <td>No</td>\n",
       "      <td>2016  April</td>\n",
       "      <td>...</td>\n",
       "      <td>NaN</td>\n",
       "      <td>NaN</td>\n",
       "      <td>No</td>\n",
       "      <td>microUSB 2.0</td>\n",
       "      <td>Accelerometer</td>\n",
       "      <td>Non-removable Li-Ion battery</td>\n",
       "      <td>Black</td>\n",
       "      <td>230.0</td>\n",
       "      <td>False</td>\n",
       "      <td>Li-Ion</td>\n",
       "    </tr>\n",
       "    <tr>\n",
       "      <th>4</th>\n",
       "      <td>Acer</td>\n",
       "      <td>Liquid X2</td>\n",
       "      <td>GSM / HSPA / LTE</td>\n",
       "      <td>GSM 850 / 900 / 1800 / 1900</td>\n",
       "      <td>HSDPA 900 / 1900 / 2100 - Europe| Taiwan</td>\n",
       "      <td>LTE 800 / 1800 / 2100 / 2600 - Europe</td>\n",
       "      <td>HSPA 42.2/5.76 Mbps  LTE Cat4 150/50 Mbps</td>\n",
       "      <td>Yes</td>\n",
       "      <td>Yes</td>\n",
       "      <td>2015  April</td>\n",
       "      <td>...</td>\n",
       "      <td>Yes with A-GPS</td>\n",
       "      <td>NaN</td>\n",
       "      <td>FM radio</td>\n",
       "      <td>microUSB 2.0</td>\n",
       "      <td>Accelerometer| proximity| compass</td>\n",
       "      <td>Removable Li-Po 4020 mAh battery</td>\n",
       "      <td>Black| Gold</td>\n",
       "      <td>230.0</td>\n",
       "      <td>True</td>\n",
       "      <td>Li-Po</td>\n",
       "    </tr>\n",
       "  </tbody>\n",
       "</table>\n",
       "<p>5 rows × 41 columns</p>\n",
       "</div>"
      ],
      "text/plain": [
       "  brand                 model        network_technology  \\\n",
       "0  Acer         Iconia Talk S          GSM / HSPA / LTE   \n",
       "1  Acer        Liquid Z6 Plus          GSM / HSPA / LTE   \n",
       "2  Acer             Liquid Z6          GSM / HSPA / LTE   \n",
       "3  Acer  Iconia Tab 10 A3-A40  No cellular connectivity   \n",
       "4  Acer             Liquid X2          GSM / HSPA / LTE   \n",
       "\n",
       "                                            2G_bands  \\\n",
       "0        GSM 850 / 900 / 1800 / 1900 - SIM 1 & SIM 2   \n",
       "1  GSM 850 / 900 / 1800 / 1900 - SIM 1 & SIM 2 (d...   \n",
       "2  GSM 850 / 900 / 1800 / 1900 - SIM 1 & SIM 2 (d...   \n",
       "3                                                N/A   \n",
       "4                       GSM 850 / 900 / 1800 / 1900    \n",
       "\n",
       "                                   3G_bands  \\\n",
       "0                  HSDPA 850 / 1900 / 2100    \n",
       "1                                     HSDPA   \n",
       "2                                     HSDPA   \n",
       "3                                       NaN   \n",
       "4  HSDPA 900 / 1900 / 2100 - Europe| Taiwan   \n",
       "\n",
       "                                            4G_bands  \\\n",
       "0  LTE band 1(2100)| 3(1800)| 7(2600)| 8(900)| 20...   \n",
       "1                                                LTE   \n",
       "2                                                LTE   \n",
       "3                                                NaN   \n",
       "4              LTE 800 / 1800 / 2100 / 2600 - Europe   \n",
       "\n",
       "                               network_speed GPRS EDGE     announced  ...  \\\n",
       "0  HSPA 42.2/11.5 Mbps  LTE Cat4 150/50 Mbps  Yes  Yes  2016  August  ...   \n",
       "1  HSPA 42.2/5.76 Mbps  LTE Cat4 150/50 Mbps  Yes  Yes  2016  August  ...   \n",
       "2                                  HSPA  LTE  Yes  Yes  2016  August  ...   \n",
       "3                                        NaN   No   No   2016  April  ...   \n",
       "4  HSPA 42.2/5.76 Mbps  LTE Cat4 150/50 Mbps  Yes  Yes   2015  April  ...   \n",
       "\n",
       "                      GPS  NFC     radio           USB  \\\n",
       "0  Yes with A-GPS GLONASS  NaN  FM radio  microUSB 2.0   \n",
       "1          Yes with A-GPS  NaN  FM radio  microUSB 2.0   \n",
       "2          Yes with A-GPS  NaN  FM radio  microUSB 2.0   \n",
       "3                     NaN  NaN        No  microUSB 2.0   \n",
       "4          Yes with A-GPS  NaN  FM radio  microUSB 2.0   \n",
       "\n",
       "                                             sensors  \\\n",
       "0                           Accelerometer| proximity   \n",
       "1  Fingerprint (front-mounted)| accelerometer| pr...   \n",
       "2                           Accelerometer| proximity   \n",
       "3                                      Accelerometer   \n",
       "4                  Accelerometer| proximity| compass   \n",
       "\n",
       "                                            battery        colors  \\\n",
       "0  Non-removable Li-Ion 3400 mAh battery (12.92 Wh)         Black   \n",
       "1                  Removable Li-Po 4080 mAh battery  Black| White   \n",
       "2                 Removable Li-Ion 2000 mAh battery  Black| White   \n",
       "3                      Non-removable Li-Ion battery         Black   \n",
       "4                  Removable Li-Po 4020 mAh battery   Black| Gold   \n",
       "\n",
       "  approx_price_EUR battery_removable battery_type  \n",
       "0            170.0             False       Li-Ion  \n",
       "1            250.0              True        Li-Po  \n",
       "2            120.0              True       Li-Ion  \n",
       "3            230.0             False       Li-Ion  \n",
       "4            230.0              True        Li-Po  \n",
       "\n",
       "[5 rows x 41 columns]"
      ]
     },
     "execution_count": 59,
     "metadata": {},
     "output_type": "execute_result"
    }
   ],
   "source": [
    "# a coluna de bateria foi transportada para 3 novas colunas:\n",
    "# 1. battery_removable (boolean)\n",
    "# 2. battery_type (string): Li-Ion / Li-Po / Li-ion / Li-po / NiMH\n",
    "# 3. battery_mah (float)\n",
    "phones.head()"
   ]
  },
  {
   "cell_type": "code",
   "execution_count": 60,
   "id": "7b23ec12",
   "metadata": {},
   "outputs": [],
   "source": [
    "# agora nos podemos remover a coluna de bateria original\n",
    "phones.drop(columns=['battery'],inplace=True)"
   ]
  },
  {
   "cell_type": "code",
   "execution_count": 61,
   "id": "36fce032",
   "metadata": {},
   "outputs": [
    {
     "data": {
      "text/plain": [
       "0     7.0 inches (~69.8% screen-to-body ratio)\n",
       "1     5.5 inches (~71.7% screen-to-body ratio)\n",
       "2                                   5.0 inches\n",
       "3    10.1 inches (~68.4% screen-to-body ratio)\n",
       "4     5.5 inches (~69.0% screen-to-body ratio)\n",
       "Name: display_resolution, dtype: object"
      ]
     },
     "execution_count": 61,
     "metadata": {},
     "output_type": "execute_result"
    }
   ],
   "source": [
    "# trabalhando com a coluna de  display_resolution\n",
    "phones.display_resolution.head()"
   ]
  },
  {
   "cell_type": "code",
   "execution_count": 62,
   "id": "aad6b525",
   "metadata": {},
   "outputs": [],
   "source": [
    "# extrair regex da coluna display_resolution\n",
    "a = phones.display_resolution.astype(str).apply(lambda x: \n",
    "                                        (re.findall('(\\d*\\.\\d*)\\s*inches(\\s*\\(.(\\d*\\.\\d*)|)',x))) "
   ]
  },
  {
   "cell_type": "code",
   "execution_count": 63,
   "id": "11d7837b",
   "metadata": {},
   "outputs": [
    {
     "data": {
      "text/plain": [
       "Series([], Name: display_resolution, dtype: object)"
      ]
     },
     "execution_count": 63,
     "metadata": {},
     "output_type": "execute_result"
    }
   ],
   "source": [
    "# procurar por regexes vazios\n",
    "a[a.apply(lambda x: len(x) == 0)]"
   ]
  },
  {
   "cell_type": "code",
   "execution_count": 64,
   "id": "40fc3998",
   "metadata": {},
   "outputs": [
    {
     "data": {
      "text/plain": [
       "0"
      ]
     },
     "execution_count": 64,
     "metadata": {},
     "output_type": "execute_result"
    }
   ],
   "source": [
    "# nao encontrou  NaNs na coluna de display_resolution \n",
    "# como estamos trabalhando com um dataset teste\n",
    "# vamos exibier estes valores posteriomente no dataset completo\n",
    "phones.display_resolution.isnull().sum()"
   ]
  },
  {
   "cell_type": "code",
   "execution_count": 65,
   "id": "f78b0b02",
   "metadata": {},
   "outputs": [
    {
     "data": {
      "text/plain": [
       "Series([], Name: display_resolution, dtype: object)"
      ]
     },
     "execution_count": 65,
     "metadata": {},
     "output_type": "execute_result"
    }
   ],
   "source": [
    "# acertando a coluna display_resolution\n",
    "phones.display_resolution[~phones.display_resolution.isnull() & a.apply(lambda x: len(x) == 0)]"
   ]
  },
  {
   "cell_type": "code",
   "execution_count": 67,
   "id": "c9d9196f",
   "metadata": {},
   "outputs": [],
   "source": [
    "# funcao para fazer o parse na display_resolution regex\n",
    "\n",
    "def display_resolution_inches(regex):\n",
    "    if regex == []:\n",
    "        return np.nan\n",
    "    else:\n",
    "        return float((regex[0])[0])\n",
    "    \n",
    "def screen_to_body_ratio(regex):\n",
    "    if regex == []:\n",
    "        return np.nan\n",
    "    elif regex[0][-1] is None:\n",
    "        return np.nan\n",
    "    else:\n",
    "        return (regex[0][-1])"
   ]
  },
  {
   "cell_type": "code",
   "execution_count": 68,
   "id": "ee00c6d1",
   "metadata": {},
   "outputs": [
    {
     "ename": "AttributeError",
     "evalue": "'Series' object has no attribute 'convert_objects'",
     "output_type": "error",
     "traceback": [
      "\u001b[1;31m---------------------------------------------------------------------------\u001b[0m",
      "\u001b[1;31mAttributeError\u001b[0m                            Traceback (most recent call last)",
      "\u001b[1;32m~\\AppData\\Local\\Temp/ipykernel_7432/1330535421.py\u001b[0m in \u001b[0;36m<module>\u001b[1;34m\u001b[0m\n\u001b[0;32m      1\u001b[0m \u001b[0mphones\u001b[0m\u001b[1;33m[\u001b[0m\u001b[1;34m'display_resolution_inches'\u001b[0m\u001b[1;33m]\u001b[0m \u001b[1;33m=\u001b[0m \u001b[0ma\u001b[0m\u001b[1;33m.\u001b[0m\u001b[0mapply\u001b[0m\u001b[1;33m(\u001b[0m\u001b[1;32mlambda\u001b[0m \u001b[0mx\u001b[0m\u001b[1;33m:\u001b[0m \u001b[0mdisplay_resolution_inches\u001b[0m\u001b[1;33m(\u001b[0m\u001b[0mx\u001b[0m\u001b[1;33m)\u001b[0m\u001b[1;33m)\u001b[0m\u001b[1;33m\u001b[0m\u001b[1;33m\u001b[0m\u001b[0m\n\u001b[1;32m----> 2\u001b[1;33m \u001b[0mphones\u001b[0m\u001b[1;33m[\u001b[0m\u001b[1;34m'screen_to_body_ratio_%'\u001b[0m\u001b[1;33m]\u001b[0m \u001b[1;33m=\u001b[0m \u001b[0ma\u001b[0m\u001b[1;33m.\u001b[0m\u001b[0mapply\u001b[0m\u001b[1;33m(\u001b[0m\u001b[1;32mlambda\u001b[0m \u001b[0mx\u001b[0m\u001b[1;33m:\u001b[0m \u001b[0mscreen_to_body_ratio\u001b[0m\u001b[1;33m(\u001b[0m\u001b[0mx\u001b[0m\u001b[1;33m)\u001b[0m\u001b[1;33m)\u001b[0m\u001b[1;33m.\u001b[0m\u001b[0mconvert_objects\u001b[0m\u001b[1;33m(\u001b[0m\u001b[0mconvert_numeric\u001b[0m\u001b[1;33m=\u001b[0m\u001b[1;32mTrue\u001b[0m\u001b[1;33m)\u001b[0m\u001b[1;33m\u001b[0m\u001b[1;33m\u001b[0m\u001b[0m\n\u001b[0m",
      "\u001b[1;32m~\\anaconda3\\lib\\site-packages\\pandas\\core\\generic.py\u001b[0m in \u001b[0;36m__getattr__\u001b[1;34m(self, name)\u001b[0m\n\u001b[0;32m   5485\u001b[0m         ):\n\u001b[0;32m   5486\u001b[0m             \u001b[1;32mreturn\u001b[0m \u001b[0mself\u001b[0m\u001b[1;33m[\u001b[0m\u001b[0mname\u001b[0m\u001b[1;33m]\u001b[0m\u001b[1;33m\u001b[0m\u001b[1;33m\u001b[0m\u001b[0m\n\u001b[1;32m-> 5487\u001b[1;33m         \u001b[1;32mreturn\u001b[0m \u001b[0mobject\u001b[0m\u001b[1;33m.\u001b[0m\u001b[0m__getattribute__\u001b[0m\u001b[1;33m(\u001b[0m\u001b[0mself\u001b[0m\u001b[1;33m,\u001b[0m \u001b[0mname\u001b[0m\u001b[1;33m)\u001b[0m\u001b[1;33m\u001b[0m\u001b[1;33m\u001b[0m\u001b[0m\n\u001b[0m\u001b[0;32m   5488\u001b[0m \u001b[1;33m\u001b[0m\u001b[0m\n\u001b[0;32m   5489\u001b[0m     \u001b[1;32mdef\u001b[0m \u001b[0m__setattr__\u001b[0m\u001b[1;33m(\u001b[0m\u001b[0mself\u001b[0m\u001b[1;33m,\u001b[0m \u001b[0mname\u001b[0m\u001b[1;33m:\u001b[0m \u001b[0mstr\u001b[0m\u001b[1;33m,\u001b[0m \u001b[0mvalue\u001b[0m\u001b[1;33m)\u001b[0m \u001b[1;33m->\u001b[0m \u001b[1;32mNone\u001b[0m\u001b[1;33m:\u001b[0m\u001b[1;33m\u001b[0m\u001b[1;33m\u001b[0m\u001b[0m\n",
      "\u001b[1;31mAttributeError\u001b[0m: 'Series' object has no attribute 'convert_objects'"
     ]
    }
   ],
   "source": [
    "phones['display_resolution_inches'] = a.apply(lambda x: display_resolution_inches(x))\n",
    "phones['screen_to_body_ratio_%'] = a.apply(lambda x: screen_to_body_ratio(x)).convert_objects(convert_numeric=True)"
   ]
  },
  {
   "cell_type": "code",
   "execution_count": 69,
   "id": "401d2a9e",
   "metadata": {},
   "outputs": [
    {
     "data": {
      "text/html": [
       "<div>\n",
       "<style scoped>\n",
       "    .dataframe tbody tr th:only-of-type {\n",
       "        vertical-align: middle;\n",
       "    }\n",
       "\n",
       "    .dataframe tbody tr th {\n",
       "        vertical-align: top;\n",
       "    }\n",
       "\n",
       "    .dataframe thead th {\n",
       "        text-align: right;\n",
       "    }\n",
       "</style>\n",
       "<table border=\"1\" class=\"dataframe\">\n",
       "  <thead>\n",
       "    <tr style=\"text-align: right;\">\n",
       "      <th></th>\n",
       "      <th>brand</th>\n",
       "      <th>model</th>\n",
       "      <th>network_technology</th>\n",
       "      <th>2G_bands</th>\n",
       "      <th>3G_bands</th>\n",
       "      <th>4G_bands</th>\n",
       "      <th>network_speed</th>\n",
       "      <th>GPRS</th>\n",
       "      <th>EDGE</th>\n",
       "      <th>announced</th>\n",
       "      <th>...</th>\n",
       "      <th>GPS</th>\n",
       "      <th>NFC</th>\n",
       "      <th>radio</th>\n",
       "      <th>USB</th>\n",
       "      <th>sensors</th>\n",
       "      <th>colors</th>\n",
       "      <th>approx_price_EUR</th>\n",
       "      <th>battery_removable</th>\n",
       "      <th>battery_type</th>\n",
       "      <th>display_resolution_inches</th>\n",
       "    </tr>\n",
       "  </thead>\n",
       "  <tbody>\n",
       "    <tr>\n",
       "      <th>0</th>\n",
       "      <td>Acer</td>\n",
       "      <td>Iconia Talk S</td>\n",
       "      <td>GSM / HSPA / LTE</td>\n",
       "      <td>GSM 850 / 900 / 1800 / 1900 - SIM 1 &amp; SIM 2</td>\n",
       "      <td>HSDPA 850 / 1900 / 2100</td>\n",
       "      <td>LTE band 1(2100)| 3(1800)| 7(2600)| 8(900)| 20...</td>\n",
       "      <td>HSPA 42.2/11.5 Mbps  LTE Cat4 150/50 Mbps</td>\n",
       "      <td>Yes</td>\n",
       "      <td>Yes</td>\n",
       "      <td>2016  August</td>\n",
       "      <td>...</td>\n",
       "      <td>Yes with A-GPS GLONASS</td>\n",
       "      <td>NaN</td>\n",
       "      <td>FM radio</td>\n",
       "      <td>microUSB 2.0</td>\n",
       "      <td>Accelerometer| proximity</td>\n",
       "      <td>Black</td>\n",
       "      <td>170.0</td>\n",
       "      <td>False</td>\n",
       "      <td>Li-Ion</td>\n",
       "      <td>7.0</td>\n",
       "    </tr>\n",
       "    <tr>\n",
       "      <th>1</th>\n",
       "      <td>Acer</td>\n",
       "      <td>Liquid Z6 Plus</td>\n",
       "      <td>GSM / HSPA / LTE</td>\n",
       "      <td>GSM 850 / 900 / 1800 / 1900 - SIM 1 &amp; SIM 2 (d...</td>\n",
       "      <td>HSDPA</td>\n",
       "      <td>LTE</td>\n",
       "      <td>HSPA 42.2/5.76 Mbps  LTE Cat4 150/50 Mbps</td>\n",
       "      <td>Yes</td>\n",
       "      <td>Yes</td>\n",
       "      <td>2016  August</td>\n",
       "      <td>...</td>\n",
       "      <td>Yes with A-GPS</td>\n",
       "      <td>NaN</td>\n",
       "      <td>FM radio</td>\n",
       "      <td>microUSB 2.0</td>\n",
       "      <td>Fingerprint (front-mounted)| accelerometer| pr...</td>\n",
       "      <td>Black| White</td>\n",
       "      <td>250.0</td>\n",
       "      <td>True</td>\n",
       "      <td>Li-Po</td>\n",
       "      <td>5.5</td>\n",
       "    </tr>\n",
       "    <tr>\n",
       "      <th>2</th>\n",
       "      <td>Acer</td>\n",
       "      <td>Liquid Z6</td>\n",
       "      <td>GSM / HSPA / LTE</td>\n",
       "      <td>GSM 850 / 900 / 1800 / 1900 - SIM 1 &amp; SIM 2 (d...</td>\n",
       "      <td>HSDPA</td>\n",
       "      <td>LTE</td>\n",
       "      <td>HSPA  LTE</td>\n",
       "      <td>Yes</td>\n",
       "      <td>Yes</td>\n",
       "      <td>2016  August</td>\n",
       "      <td>...</td>\n",
       "      <td>Yes with A-GPS</td>\n",
       "      <td>NaN</td>\n",
       "      <td>FM radio</td>\n",
       "      <td>microUSB 2.0</td>\n",
       "      <td>Accelerometer| proximity</td>\n",
       "      <td>Black| White</td>\n",
       "      <td>120.0</td>\n",
       "      <td>True</td>\n",
       "      <td>Li-Ion</td>\n",
       "      <td>5.0</td>\n",
       "    </tr>\n",
       "    <tr>\n",
       "      <th>3</th>\n",
       "      <td>Acer</td>\n",
       "      <td>Iconia Tab 10 A3-A40</td>\n",
       "      <td>No cellular connectivity</td>\n",
       "      <td>N/A</td>\n",
       "      <td>NaN</td>\n",
       "      <td>NaN</td>\n",
       "      <td>NaN</td>\n",
       "      <td>No</td>\n",
       "      <td>No</td>\n",
       "      <td>2016  April</td>\n",
       "      <td>...</td>\n",
       "      <td>NaN</td>\n",
       "      <td>NaN</td>\n",
       "      <td>No</td>\n",
       "      <td>microUSB 2.0</td>\n",
       "      <td>Accelerometer</td>\n",
       "      <td>Black</td>\n",
       "      <td>230.0</td>\n",
       "      <td>False</td>\n",
       "      <td>Li-Ion</td>\n",
       "      <td>10.1</td>\n",
       "    </tr>\n",
       "    <tr>\n",
       "      <th>4</th>\n",
       "      <td>Acer</td>\n",
       "      <td>Liquid X2</td>\n",
       "      <td>GSM / HSPA / LTE</td>\n",
       "      <td>GSM 850 / 900 / 1800 / 1900</td>\n",
       "      <td>HSDPA 900 / 1900 / 2100 - Europe| Taiwan</td>\n",
       "      <td>LTE 800 / 1800 / 2100 / 2600 - Europe</td>\n",
       "      <td>HSPA 42.2/5.76 Mbps  LTE Cat4 150/50 Mbps</td>\n",
       "      <td>Yes</td>\n",
       "      <td>Yes</td>\n",
       "      <td>2015  April</td>\n",
       "      <td>...</td>\n",
       "      <td>Yes with A-GPS</td>\n",
       "      <td>NaN</td>\n",
       "      <td>FM radio</td>\n",
       "      <td>microUSB 2.0</td>\n",
       "      <td>Accelerometer| proximity| compass</td>\n",
       "      <td>Black| Gold</td>\n",
       "      <td>230.0</td>\n",
       "      <td>True</td>\n",
       "      <td>Li-Po</td>\n",
       "      <td>5.5</td>\n",
       "    </tr>\n",
       "  </tbody>\n",
       "</table>\n",
       "<p>5 rows × 41 columns</p>\n",
       "</div>"
      ],
      "text/plain": [
       "  brand                 model        network_technology  \\\n",
       "0  Acer         Iconia Talk S          GSM / HSPA / LTE   \n",
       "1  Acer        Liquid Z6 Plus          GSM / HSPA / LTE   \n",
       "2  Acer             Liquid Z6          GSM / HSPA / LTE   \n",
       "3  Acer  Iconia Tab 10 A3-A40  No cellular connectivity   \n",
       "4  Acer             Liquid X2          GSM / HSPA / LTE   \n",
       "\n",
       "                                            2G_bands  \\\n",
       "0        GSM 850 / 900 / 1800 / 1900 - SIM 1 & SIM 2   \n",
       "1  GSM 850 / 900 / 1800 / 1900 - SIM 1 & SIM 2 (d...   \n",
       "2  GSM 850 / 900 / 1800 / 1900 - SIM 1 & SIM 2 (d...   \n",
       "3                                                N/A   \n",
       "4                       GSM 850 / 900 / 1800 / 1900    \n",
       "\n",
       "                                   3G_bands  \\\n",
       "0                  HSDPA 850 / 1900 / 2100    \n",
       "1                                     HSDPA   \n",
       "2                                     HSDPA   \n",
       "3                                       NaN   \n",
       "4  HSDPA 900 / 1900 / 2100 - Europe| Taiwan   \n",
       "\n",
       "                                            4G_bands  \\\n",
       "0  LTE band 1(2100)| 3(1800)| 7(2600)| 8(900)| 20...   \n",
       "1                                                LTE   \n",
       "2                                                LTE   \n",
       "3                                                NaN   \n",
       "4              LTE 800 / 1800 / 2100 / 2600 - Europe   \n",
       "\n",
       "                               network_speed GPRS EDGE     announced  ...  \\\n",
       "0  HSPA 42.2/11.5 Mbps  LTE Cat4 150/50 Mbps  Yes  Yes  2016  August  ...   \n",
       "1  HSPA 42.2/5.76 Mbps  LTE Cat4 150/50 Mbps  Yes  Yes  2016  August  ...   \n",
       "2                                  HSPA  LTE  Yes  Yes  2016  August  ...   \n",
       "3                                        NaN   No   No   2016  April  ...   \n",
       "4  HSPA 42.2/5.76 Mbps  LTE Cat4 150/50 Mbps  Yes  Yes   2015  April  ...   \n",
       "\n",
       "                      GPS  NFC     radio           USB  \\\n",
       "0  Yes with A-GPS GLONASS  NaN  FM radio  microUSB 2.0   \n",
       "1          Yes with A-GPS  NaN  FM radio  microUSB 2.0   \n",
       "2          Yes with A-GPS  NaN  FM radio  microUSB 2.0   \n",
       "3                     NaN  NaN        No  microUSB 2.0   \n",
       "4          Yes with A-GPS  NaN  FM radio  microUSB 2.0   \n",
       "\n",
       "                                             sensors        colors  \\\n",
       "0                           Accelerometer| proximity         Black   \n",
       "1  Fingerprint (front-mounted)| accelerometer| pr...  Black| White   \n",
       "2                           Accelerometer| proximity  Black| White   \n",
       "3                                      Accelerometer         Black   \n",
       "4                  Accelerometer| proximity| compass   Black| Gold   \n",
       "\n",
       "  approx_price_EUR battery_removable battery_type display_resolution_inches  \n",
       "0            170.0             False       Li-Ion                       7.0  \n",
       "1            250.0              True        Li-Po                       5.5  \n",
       "2            120.0              True       Li-Ion                       5.0  \n",
       "3            230.0             False       Li-Ion                      10.1  \n",
       "4            230.0              True        Li-Po                       5.5  \n",
       "\n",
       "[5 rows x 41 columns]"
      ]
     },
     "execution_count": 69,
     "metadata": {},
     "output_type": "execute_result"
    }
   ],
   "source": [
    "# A coluna display_resolution foi transferida para duas:\n",
    "# 1. display_resolution_inches (float)\n",
    "# 2. screen_to_body_ratio_% (float)\n",
    "phones.head()"
   ]
  },
  {
   "cell_type": "code",
   "execution_count": 70,
   "id": "bb38c204",
   "metadata": {},
   "outputs": [
    {
     "data": {
      "text/plain": [
       "0"
      ]
     },
     "execution_count": 70,
     "metadata": {},
     "output_type": "execute_result"
    }
   ],
   "source": [
    "phones.dimentions.isnull().sum()"
   ]
  },
  {
   "cell_type": "code",
   "execution_count": 71,
   "id": "023d5a6e",
   "metadata": {},
   "outputs": [],
   "source": [
    "# elimina 'mm' para incluir min valor do thickness, nos temos duas tuplas, uma para mm e outra para polegadas\n",
    "a = phones.dimentions.astype(str).apply(lambda x: \n",
    "                                        (re.findall('(\\d*\\.\\d*|\\d*)\\sx\\s(\\d*\\.\\d*|\\d*)\\sx\\s(\\d*\\.\\d*|\\d*)',x))) \n"
   ]
  },
  {
   "cell_type": "code",
   "execution_count": 72,
   "id": "7ff5d31e",
   "metadata": {},
   "outputs": [
    {
     "data": {
      "text/plain": [
       "0     [(191.7, 101, 9.4), (7.55, 3.98, 0.37)]\n",
       "1    [(153.8, 75.6, 8.5), (6.06, 2.98, 0.33)]\n",
       "2                                          []\n",
       "3      [(259, 167, 8.9), (10.20, 6.57, 0.35)]\n",
       "4    [(153.3, 78.8, 8.5), (6.04, 3.10, 0.33)]\n",
       "Name: dimentions, dtype: object"
      ]
     },
     "execution_count": 72,
     "metadata": {},
     "output_type": "execute_result"
    }
   ],
   "source": [
    "a.head()\n"
   ]
  },
  {
   "cell_type": "code",
   "execution_count": 73,
   "id": "b29987e3",
   "metadata": {},
   "outputs": [
    {
     "data": {
      "text/plain": [
       "0     191.7 x 101 x 9.4 mm (7.55 x 3.98 x 0.37 in)\n",
       "1    153.8 x 75.6 x 8.5 mm (6.06 x 2.98 x 0.33 in)\n",
       "2                                                -\n",
       "3      259 x 167 x 8.9 mm (10.20 x 6.57 x 0.35 in)\n",
       "4    153.3 x 78.8 x 8.5 mm (6.04 x 3.10 x 0.33 in)\n",
       "Name: dimentions, dtype: object"
      ]
     },
     "execution_count": 73,
     "metadata": {},
     "output_type": "execute_result"
    }
   ],
   "source": [
    "phones.dimentions.head()"
   ]
  },
  {
   "cell_type": "code",
   "execution_count": 74,
   "id": "2edd2a74",
   "metadata": {},
   "outputs": [
    {
     "data": {
      "text/plain": [
       "35    8.9 mm thickness\n",
       "36    8.9 mm thickness\n",
       "37    8.9 mm thickness\n",
       "Name: dimentions, dtype: object"
      ]
     },
     "execution_count": 74,
     "metadata": {},
     "output_type": "execute_result"
    }
   ],
   "source": [
    "# verifica cada regex lidos com falha (o que não ocorre porque tinhamos atribuido NaN or '-')\n",
    "phones.dimentions[a.apply(lambda x: len(x) == 0) & ~phones.dimentions.isnull() & (phones.dimentions != '-')]"
   ]
  },
  {
   "cell_type": "code",
   "execution_count": 75,
   "id": "a6bc9c8c",
   "metadata": {},
   "outputs": [],
   "source": [
    "# processar mm thickness-only \n",
    "b = phones.dimentions.astype(str).apply(lambda x: \n",
    "                                        (re.findall('(\\d*\\.\\d*|\\d*)\\smm\\sthickness',x)))"
   ]
  },
  {
   "cell_type": "code",
   "execution_count": 76,
   "id": "01fb59f2",
   "metadata": {},
   "outputs": [],
   "source": [
    "# converte regex data para numerical data\n",
    "# retorna o valor \n",
    "def dimension_conversion(regex):\n",
    "    if len(regex) == 0: # vazio regex\n",
    "        return []\n",
    "    elif len(regex) == 1 & isinstance(regex[0],str): # regex obtido atraves do thickneww apenas data\n",
    "        new_regex = []\n",
    "        try:            \n",
    "            new_regex.append(float(regex[0]))\n",
    "        except:\n",
    "            pass\n",
    "        return new_regex\n",
    "    elif (len(regex) >= 1) & isinstance(regex[0],tuple): # regex objtico atraves da full dimension data\n",
    "        new_regex = list(regex[0])\n",
    "        for i in range(len(new_regex)):\n",
    "            try:\n",
    "                new_regex[i] = float(regex[0][i])\n",
    "            except:\n",
    "                 pass\n",
    "        return new_regex\n",
    "    else:\n",
    "        return []"
   ]
  },
  {
   "cell_type": "code",
   "execution_count": 77,
   "id": "0e819095",
   "metadata": {},
   "outputs": [],
   "source": [
    "# combina dados de dimencoes\n",
    "# dados que nao foram encontrados mas nao eram NaN foram convertidos para NaN\n",
    "# 1. number x number x number mm\n",
    "# 2. number mm thickness\n",
    "# 3. '-'\n",
    "c = a.apply(lambda x: dimension_conversion(x)) + b.apply(lambda x: dimension_conversion(x))"
   ]
  },
  {
   "cell_type": "code",
   "execution_count": 78,
   "id": "93c41bec",
   "metadata": {},
   "outputs": [],
   "source": [
    "# define funcao para extrar dados para cada dimencao\n",
    "def length(x):\n",
    "    if len(x) == 3:\n",
    "        if x[0] is not None:\n",
    "            return x[0]\n",
    "        else:\n",
    "            return np.nan\n",
    "    else:\n",
    "        return np.nan\n",
    "    \n",
    "def width(x):\n",
    "    if len(x) == 3:\n",
    "        if x[1] is not None:\n",
    "            return x[1]\n",
    "        else:\n",
    "            return np.nan\n",
    "    else:\n",
    "        return np.nan\n",
    "    \n",
    "def thickness(x):\n",
    "    if len(x) == 3:\n",
    "        if x[2] is not None:\n",
    "            return x[2]\n",
    "        else:\n",
    "            return np.nan\n",
    "    elif len(x) == 1:\n",
    "        if x[0] is not None:\n",
    "            return x[0]\n",
    "        else:\n",
    "            return np.nan\n",
    "    else:\n",
    "        return np.nan"
   ]
  },
  {
   "cell_type": "code",
   "execution_count": 79,
   "id": "14b21a70",
   "metadata": {},
   "outputs": [],
   "source": [
    "length = c.apply(lambda x: length(x))"
   ]
  },
  {
   "cell_type": "code",
   "execution_count": 80,
   "id": "7480368c",
   "metadata": {},
   "outputs": [],
   "source": [
    "width = c.apply(lambda x: width(x))\n"
   ]
  },
  {
   "cell_type": "code",
   "execution_count": 81,
   "id": "a88af525",
   "metadata": {},
   "outputs": [],
   "source": [
    "thickness = c.apply(lambda x: thickness(x))"
   ]
  },
  {
   "cell_type": "code",
   "execution_count": 82,
   "id": "de615b98",
   "metadata": {},
   "outputs": [
    {
     "data": {
      "text/plain": [
       "35    8.9\n",
       "36    8.9\n",
       "37    8.9\n",
       "Name: dimentions, dtype: float64"
      ]
     },
     "execution_count": 82,
     "metadata": {},
     "output_type": "execute_result"
    }
   ],
   "source": [
    "# testar a função thickness sobre o valor original\n",
    "thickness[c.apply(lambda x: len(x) == 1)]"
   ]
  },
  {
   "cell_type": "code",
   "execution_count": 83,
   "id": "9423bd11",
   "metadata": {},
   "outputs": [
    {
     "data": {
      "text/plain": [
       "2   NaN\n",
       "5   NaN\n",
       "Name: dimentions, dtype: float64"
      ]
     },
     "execution_count": 83,
     "metadata": {},
     "output_type": "execute_result"
    }
   ],
   "source": [
    "# testat a funcao thickness com relacao aos  NaNs\n",
    "thickness[c.apply(lambda x: len(x) == 0)]"
   ]
  },
  {
   "cell_type": "code",
   "execution_count": 84,
   "id": "658c7f47",
   "metadata": {},
   "outputs": [],
   "source": [
    "phones['length_mm'] = length\n",
    "phones['width_mm'] = width\n",
    "phones['thickness_mm'] = thickness"
   ]
  },
  {
   "cell_type": "code",
   "execution_count": 85,
   "id": "12ccf126",
   "metadata": {},
   "outputs": [],
   "source": [
    "phones.drop(columns=['dimentions'],inplace=True)"
   ]
  },
  {
   "cell_type": "code",
   "execution_count": 86,
   "id": "574a4534",
   "metadata": {},
   "outputs": [
    {
     "data": {
      "text/plain": [
       "8 GB                       17\n",
       "4 GB                       14\n",
       "16 GB                      11\n",
       "32 GB                       7\n",
       "16/32 GB                    4\n",
       "16/32/64 GB                 2\n",
       "32/64 GB                    1\n",
       "8/16 GB                     1\n",
       " 4 GB                       1\n",
       "16 GB/ 32 GB (optional)     1\n",
       "Name: internal_memory, dtype: int64"
      ]
     },
     "execution_count": 86,
     "metadata": {},
     "output_type": "execute_result"
    }
   ],
   "source": [
    "phones.internal_memory.value_counts()"
   ]
  },
  {
   "cell_type": "code",
   "execution_count": 87,
   "id": "75e69c66",
   "metadata": {},
   "outputs": [],
   "source": [
    "# processa informcacoes da internal_memory \n",
    "a = phones.internal_memory.astype(str).apply(lambda x: \n",
    "                                        (re.findall('(?i)(\\d*|\\d*\\.\\d*)\\/*(\\d*)\\/*(\\d*)\\s(?=GB)|(\\d*|\\d*\\.\\d*)\\/*(\\d*)\\/*(\\d*)\\s(?=MB)|(\\d*|\\d*\\.\\d*)\\/*(\\d*)\\/*(\\d*)\\s(?=KB)',x,re.IGNORECASE)))"
   ]
  },
  {
   "cell_type": "code",
   "execution_count": 88,
   "id": "e78ceceb",
   "metadata": {},
   "outputs": [
    {
     "data": {
      "text/plain": [
       "0      [(16, 32, , , , , , , )]\n",
       "1        [(32, , , , , , , , )]\n",
       "2         [(8, , , , , , , , )]\n",
       "3    [(16, 32, 64, , , , , , )]\n",
       "4        [(32, , , , , , , , )]\n",
       "5        [(32, , , , , , , , )]\n",
       "6        [(16, , , , , , , , )]\n",
       "7         [(8, , , , , , , , )]\n",
       "8      [(32, 64, , , , , , , )]\n",
       "9        [(32, , , , , , , , )]\n",
       "Name: internal_memory, dtype: object"
      ]
     },
     "execution_count": 88,
     "metadata": {},
     "output_type": "execute_result"
    }
   ],
   "source": [
    "a.head(10)"
   ]
  },
  {
   "cell_type": "code",
   "execution_count": 89,
   "id": "46e33371",
   "metadata": {},
   "outputs": [
    {
     "data": {
      "text/plain": [
       "True"
      ]
     },
     "execution_count": 89,
     "metadata": {},
     "output_type": "execute_result"
    }
   ],
   "source": [
    "(a.iloc[3][0][3]=='')"
   ]
  },
  {
   "cell_type": "code",
   "execution_count": 90,
   "id": "384a8853",
   "metadata": {},
   "outputs": [],
   "source": [
    "# função para extrair a internal_memory com problem de dados em três tipos: GB / MB / KB\n",
    "\n",
    "def GB(regex):\n",
    "    gb = []\n",
    "    for i in range(3):\n",
    "        for j in range(2):\n",
    "            try:\n",
    "                gb.append(float(regex[j][i])) # GB encontrado em regex groups 1, 2, and 3\n",
    "            except:\n",
    "                pass\n",
    "    return gb\n",
    "\n",
    "def MB(regex):\n",
    "    mb = []\n",
    "    for i in range(3):\n",
    "        for j in range(2):\n",
    "            try:\n",
    "                mb.append(float(regex[j][i+3])) # MB encontrado em regex groups 4,5,6\n",
    "            except:\n",
    "                pass\n",
    "            return mb\n",
    "\n",
    "def KB(regex):\n",
    "    kb = []\n",
    "    for i in range(3):\n",
    "        for j in range(2):\n",
    "            try:\n",
    "                kb.append(float(regex[j][i+6])) # KB found in regex groups 7,8,9\n",
    "            except:\n",
    "                pass\n",
    "    return kb\n",
    "\n",
    "def GB_MB_KB(regex):\n",
    "    return [GB(regex),MB(regex),KB(regex)]"
   ]
  },
  {
   "cell_type": "code",
   "execution_count": 91,
   "id": "2f90bb75",
   "metadata": {},
   "outputs": [
    {
     "data": {
      "text/plain": [
       "0           [[16.0, 32.0], [], []]\n",
       "1                 [[32.0], [], []]\n",
       "2                  [[8.0], [], []]\n",
       "3     [[16.0, 32.0, 64.0], [], []]\n",
       "4                 [[32.0], [], []]\n",
       "                  ...             \n",
       "56                 [[4.0], [], []]\n",
       "57                    [[], [], []]\n",
       "58                    [[], [], []]\n",
       "59          [[16.0, 32.0], [], []]\n",
       "60                 [[4.0], [], []]\n",
       "Name: internal_memory, Length: 61, dtype: object"
      ]
     },
     "execution_count": 91,
     "metadata": {},
     "output_type": "execute_result"
    }
   ],
   "source": [
    "a.apply(lambda x: GB_MB_KB(x))"
   ]
  },
  {
   "cell_type": "code",
   "execution_count": 92,
   "id": "41d45c18",
   "metadata": {},
   "outputs": [
    {
     "data": {
      "text/plain": [
       "59    [(16, , , , , , , , ), (32, , , , , , , , )]\n",
       "Name: internal_memory, dtype: object"
      ]
     },
     "execution_count": 92,
     "metadata": {},
     "output_type": "execute_result"
    }
   ],
   "source": [
    "# testa a internal_memory com os tipos (eg, GB and MB)\n",
    "a[a.apply(lambda x: len(x) == 2)]"
   ]
  },
  {
   "cell_type": "code",
   "execution_count": 93,
   "id": "94154081",
   "metadata": {},
   "outputs": [
    {
     "data": {
      "text/plain": [
       "59    [[16.0, 32.0], [], []]\n",
       "Name: internal_memory, dtype: object"
      ]
     },
     "execution_count": 93,
     "metadata": {},
     "output_type": "execute_result"
    }
   ],
   "source": [
    "# aplica BG_MB_KB para mudar o tipo internal_memory strings para check validity\n",
    "a[a.apply(lambda x: len(x) == 2)].apply(lambda x: GB_MB_KB(x))"
   ]
  },
  {
   "cell_type": "code",
   "execution_count": 94,
   "id": "7f4a923b",
   "metadata": {},
   "outputs": [],
   "source": [
    "a_GB = a.apply(lambda x: GB_MB_KB(x)[0])\n",
    "a_MB = a.apply(lambda x: GB_MB_KB(x)[1])\n",
    "a_KB = a.apply(lambda x: GB_MB_KB(x)[2])"
   ]
  },
  {
   "cell_type": "code",
   "execution_count": 95,
   "id": "fa9e9d63",
   "metadata": {},
   "outputs": [
    {
     "data": {
      "text/plain": [
       "0          [16.0, 32.0]\n",
       "1                [32.0]\n",
       "2                 [8.0]\n",
       "3    [16.0, 32.0, 64.0]\n",
       "4                [32.0]\n",
       "Name: internal_memory, dtype: object"
      ]
     },
     "execution_count": 95,
     "metadata": {},
     "output_type": "execute_result"
    }
   ],
   "source": [
    "a_GB.head()"
   ]
  },
  {
   "cell_type": "code",
   "execution_count": 97,
   "id": "9e4519d3",
   "metadata": {},
   "outputs": [
    {
     "data": {
      "text/plain": [
       "Series([], Name: internal_memory, dtype: object)"
      ]
     },
     "execution_count": 97,
     "metadata": {},
     "output_type": "execute_result"
    }
   ],
   "source": [
    "# teste KB types\n",
    "a_KB[a.apply(lambda x: GB_MB_KB(x)[2] != [])]"
   ]
  },
  {
   "cell_type": "code",
   "execution_count": 98,
   "id": "d37ab4ff",
   "metadata": {},
   "outputs": [],
   "source": [
    "# gerados tres colunas incluindo internal_memory tipos (GB / MB / KB) \n",
    "# in the next step, turn categorical...\n",
    "phones[\"internal_memory_BG\"] = a_GB \n",
    "phones[\"internal_memory_MB\"] = a_MB\n",
    "phones[\"internal_memory_KB\"] = a_KB"
   ]
  },
  {
   "cell_type": "code",
   "execution_count": 99,
   "id": "e4a8dae0",
   "metadata": {},
   "outputs": [
    {
     "data": {
      "text/plain": [
       "1 GB RAM                                             27\n",
       "2 GB RAM                                             12\n",
       "512 MB RAM                                            7\n",
       "3 GB RAM                                              6\n",
       "1 GB RAM - Liquid Jade Z                              1\n",
       "512 MB RAM - Liquid M220                              1\n",
       "1 GB RAM - Liquid Jade                                1\n",
       "2 GB RAM or 4 GB| 1 GB RAM                            1\n",
       "1 GB RAM (Single SIM)/ 16 GB| 1 GB RAM (Dual SIM)     1\n",
       "1 GB RAM (6036A| 6036X)/ 8 GB| 1 GB RAM (6036Y)       1\n",
       "1 GB RAM (Single SIM)/ 8 GB| 1 GB RAM (Dual SIM)      1\n",
       "Name: RAM, dtype: int64"
      ]
     },
     "execution_count": 99,
     "metadata": {},
     "output_type": "execute_result"
    }
   ],
   "source": [
    "phones.RAM.value_counts()"
   ]
  },
  {
   "cell_type": "code",
   "execution_count": 100,
   "id": "e31a3da7",
   "metadata": {},
   "outputs": [],
   "source": [
    "phones_new=phones[phones['approx_price_EUR'].isnull()==0]"
   ]
  },
  {
   "cell_type": "code",
   "execution_count": 101,
   "id": "b621e2bd",
   "metadata": {},
   "outputs": [
    {
     "data": {
      "text/plain": [
       "<AxesSubplot:>"
      ]
     },
     "execution_count": 101,
     "metadata": {},
     "output_type": "execute_result"
    },
    {
     "data": {
      "image/png": "[encoded data removed]",
      "text/plain": [
       "<Figure size 432x288 with 1 Axes>"
      ]
     },
     "metadata": {
      "needs_background": "light"
     },
     "output_type": "display_data"
    }
   ],
   "source": [
    "sns.heatmap(phones_new.isnull(),yticklabels=False,cbar=False,cmap='viridis')"
   ]
  },
  {
   "cell_type": "code",
   "execution_count": 102,
   "id": "f8fdb2fe",
   "metadata": {},
   "outputs": [],
   "source": [
    "phones_new.drop('NFC',axis=1,inplace=True)"
   ]
  },
  {
   "cell_type": "code",
   "execution_count": 103,
   "id": "8e15b843",
   "metadata": {},
   "outputs": [],
   "source": [
    "phones_new.drop('4G_bands',axis=1,inplace=True)"
   ]
  },
  {
   "cell_type": "code",
   "execution_count": 104,
   "id": "3ea9ba2c",
   "metadata": {},
   "outputs": [],
   "source": [
    "# GPU  (graphics processing unit) column sera categoria type\n",
    "\n",
    "a_regex = '(\"\"|Adreno|Intel|Mali|Broadcom|PowerVR|ULP|Vivante|Nvidia|Kepler|3D|Mediatek|SGX531u|VideoCore)'\n",
    "GPU_replacements = {'':0, 'Adreno':1,'Intel':2,'Mali':3,'Broadcom':4,'PowerVR':5,'ULP':6,'Vivante':7,'Nvidia':8,'Kepler':9\n",
    "                   ,'3D':10,'Mediatek':11,'SGX531u':12,'VideoCore':13}\n",
    "\n",
    "#Extrair usando Regex\n",
    "phones_new['GPU_new'] = phones_new['GPU'].str.extract(a_regex).fillna('')\n",
    "#procura valor do dicionario\n",
    "phones_new['GPU_new'] = phones_new['GPU_new'].apply(lambda x: GPU_replacements.get(x,''))\n",
    "#Usa default value de outra coluna se não tiver valor"
   ]
  },
  {
   "cell_type": "code",
   "execution_count": 105,
   "id": "e2cdded9",
   "metadata": {},
   "outputs": [
    {
     "data": {
      "text/plain": [
       "3    25\n",
       "0    14\n",
       "1     7\n",
       "5     7\n",
       "2     1\n",
       "Name: GPU_new, dtype: int64"
      ]
     },
     "execution_count": 105,
     "metadata": {},
     "output_type": "execute_result"
    }
   ],
   "source": [
    "phones_new['GPU_new'].value_counts()"
   ]
  },
  {
   "cell_type": "code",
   "execution_count": 106,
   "id": "5a4580d0",
   "metadata": {},
   "outputs": [],
   "source": [
    "# indexando as marcas\n",
    "brands=[]\n",
    "phones_new['brand_idx']=999\n",
    "x=1\n",
    "brands.append(phones_new['brand'].iloc[0])\n",
    "phones_new['brand_idx'].iloc[0]=1\n",
    "i=1\n",
    "for i in range(1,len(phones_new['brand'])-1):\n",
    "    if phones_new['brand'].iloc[i] in brands:\n",
    "        phones_new['brand_idx'].iloc[i]=brands.index(phones_new['brand'].iloc[i])+1\n",
    "    else:\n",
    "        x=x+1\n",
    "        brands.append(phones_new['brand'].iloc[i])\n",
    "        phones_new['brand_idx'].iloc[i]=x"
   ]
  },
  {
   "cell_type": "code",
   "execution_count": null,
   "id": "42150205",
   "metadata": {},
   "outputs": [],
   "source": [
    "# indexando modelos\n",
    "# models=[]\n",
    "# phones_new['model_idx']=999\n",
    "# x=1\n",
    "# models.append(phones_new['model'].iloc[0])\n",
    "# phones_new['model_idx'].iloc[0]=1\n",
    "# i=1\n",
    "# for i in range(1,len(df_new['model'])-1):\n",
    "#     if phones_new['model'].iloc[i] in models:\n",
    "#         phones_new['model_idx'].iloc[i]=models.index(phones_new['model'].iloc[i])+1\n",
    "#     else:\n",
    "#         x=x+1\n",
    "#         models.append(phones_new['model'].iloc[i])\n",
    "#         phones_new['model_idx'].iloc[i]=x"
   ]
  },
  {
   "cell_type": "code",
   "execution_count": 107,
   "id": "e5670906",
   "metadata": {},
   "outputs": [
    {
     "data": {
      "text/plain": [
       "2014    29\n",
       "2015    14\n",
       "2016     6\n",
       "2013     5\n",
       "Name: year, dtype: int64"
      ]
     },
     "execution_count": 107,
     "metadata": {},
     "output_type": "execute_result"
    }
   ],
   "source": [
    "phones_new['year'] = phones_new['announced'].str.extract('(\\d\\d\\d\\d)', expand=True)\n",
    "phones_new['year'].fillna(phones_new['year'].value_counts().index[0],inplace=True)\n",
    "phones_new['year'].value_counts()"
   ]
  },
  {
   "cell_type": "code",
   "execution_count": 108,
   "id": "efe04d02",
   "metadata": {},
   "outputs": [],
   "source": [
    "a_regex = '(January|February|March|April|May|June|July|August|September|October|November|December)'\n",
    "month_replacements = {'January':1, 'February':2,\n",
    "            'March':3,'April':4 ,'May':5,'June':6,'July':7,'August':8,'September':9,'October':10,'November':11, 'December':12}\n",
    "\n",
    "#Extrair usando Regex\n",
    "phones_new['Month'] = phones_new['announced'].str.extract(a_regex).fillna('')\n",
    "#procura valores do dicionário\n",
    "phones_new['Month'] = phones_new['Month'].apply(lambda x: month_replacements.get(x,''))\n",
    "#Use default value from other coumn if no other value"
   ]
  },
  {
   "cell_type": "code",
   "execution_count": 109,
   "id": "42c546a4",
   "metadata": {},
   "outputs": [
    {
     "data": {
      "text/plain": [
       "[0, 0, 0, 0, 0, 0, 0, 0, 0, 0, 0, 0]"
      ]
     },
     "execution_count": 109,
     "metadata": {},
     "output_type": "execute_result"
    }
   ],
   "source": [
    "# cria lista de ratio de cada mes para completar datas em branco\n",
    "ratio=[]\n",
    "for i in range (1,13):\n",
    "    a=(phones_new['Month']==i).sum()/(sum(phones_new['Month'].value_counts())-(phones_new['Month']==\"\").sum())*(phones_new['Month']==\"\").sum()\n",
    "    ratio.append(round(a))\n",
    "ratio\n",
    "# sum(df_new['Month'].value_counts())"
   ]
  },
  {
   "cell_type": "code",
   "execution_count": 110,
   "id": "5b05c015",
   "metadata": {},
   "outputs": [],
   "source": [
    "#criando nova column-Month para trocar \"\" pelo número do mês ratio\n",
    "phones_new['Month_new']=999\n",
    "j=0 # place in list\n",
    "k=1\n",
    "l=1\n",
    "for i in range(0, len(phones_new)):\n",
    "    if phones_new['Month'].iloc[i]==\"\":\n",
    "        if k<=ratio[j]:\n",
    "            phones_new['Month_new'].iloc[i]=l\n",
    "            k=k+1\n",
    "        else:\n",
    "            k=1\n",
    "            l=l+1\n",
    "            j=j+1\n",
    "    else:\n",
    "         phones_new['Month_new'].iloc[i]=phones_new['Month'].iloc[i]"
   ]
  },
  {
   "cell_type": "code",
   "execution_count": 111,
   "id": "7a9e51b1",
   "metadata": {},
   "outputs": [
    {
     "data": {
      "text/plain": [
       "2     10\n",
       "4      8\n",
       "9      8\n",
       "1      7\n",
       "6      7\n",
       "8      5\n",
       "3      4\n",
       "10     2\n",
       "12     2\n",
       "11     1\n",
       "Name: Month_new, dtype: int64"
      ]
     },
     "execution_count": 111,
     "metadata": {},
     "output_type": "execute_result"
    }
   ],
   "source": [
    "phones_new['Month_new'].replace(999,12,inplace=True)\n",
    "phones_new['Month_new'].value_counts()"
   ]
  },
  {
   "cell_type": "code",
   "execution_count": 112,
   "id": "1e148d9d",
   "metadata": {},
   "outputs": [],
   "source": [
    "#cria binario column - GPS_se existe  GPS no modelo\n",
    "check_list = ['Yes', 'GPS']\n",
    "regstr = '|'.join(check_list)\n",
    "phones_new['GPS_new']=phones_new['GPS']\n",
    "# df_new['GPS_new'] = np.where(df_new['GPS'].isin(check_list),'YES','NO')\n",
    "phones_new['GPS_new']=phones_new['GPS_new'].str.contains(regstr, case=False, na=False)"
   ]
  },
  {
   "cell_type": "code",
   "execution_count": 113,
   "id": "46b42c34",
   "metadata": {},
   "outputs": [],
   "source": [
    "phones_new['primary_cam_MP']=phones_new[\"primary_camera\"].str.split(' ',expand=True)[0]\n",
    "phones_new['primary_cam_MP'].fillna(0,inplace=True)\n",
    "phones_new['primary_cam_MP'].replace('2MP',2,inplace=True)\n",
    "phones_new['primary_cam_MP'].replace('5MP|',5,inplace=True)\n",
    "phones_new['primary_cam_MP'].replace('600',0,inplace=True)\n",
    "phones_new['primary_cam_MP'].replace(['SVGA','Yes.','QVGA','Yes|','CIF','No','VGA|','Yes','Dual','VGA'],0,inplace=True)"
   ]
  },
  {
   "cell_type": "code",
   "execution_count": 114,
   "id": "c5430529",
   "metadata": {},
   "outputs": [],
   "source": [
    "phones_new['secondary_cam_MP']=phones_new[\"secondary_camera\"].str.split(' ',expand=True)[0]\n",
    "phones_new['secondary_cam_MP'].fillna(0,inplace=True)"
   ]
  },
  {
   "cell_type": "code",
   "execution_count": 115,
   "id": "254e0120",
   "metadata": {},
   "outputs": [],
   "source": [
    "phones_new['secondary_cam_MP'].replace('8MP',8,inplace=True)\n",
    "phones_new['secondary_cam_MP'].replace('1.3MP',1.3,inplace=True)\n",
    "phones_new['secondary_cam_MP'].replace(['No','Yes','QCIF','0.','QVGA','Videocalling','CIF','0','VGA|','HD','Dual','VGA','Spy','VGA@15fps','QCIF@15fps','VGA/','720p','Videocall',],0,inplace=True)"
   ]
  },
  {
   "cell_type": "code",
   "execution_count": 116,
   "id": "54c027dc",
   "metadata": {},
   "outputs": [],
   "source": [
    "# OS  (Operation System) coluna será inteiro\n",
    "\n",
    "a_regex = '(\"\"|Android|Windows|Firefox|iOS|BlackBerry|Linux|webOS|Sailfish|Nokia|Symbian|Tizen)'\n",
    "OS_replacements = {'':0, 'Android':1,'Windows':2,'Firefox':3,'iOS':4,'BlackBerry':5,'Linux':6,'webOS':7,'Sailfish':8,'Nokia':9\n",
    "                   ,'Symbian':10,'Tizen':11}\n",
    "\n",
    "#Extari usando Regex\n",
    "phones_new['OS'] = phones_new['OS'].str.extract(a_regex).fillna('')\n",
    "#verifica no dicionario\n",
    "phones_new['OS'] = phones_new['OS'].apply(lambda x: OS_replacements.get(x,''))\n",
    "#Usa o valor default de outra coluna se nao tiver outro valor"
   ]
  },
  {
   "cell_type": "code",
   "execution_count": 117,
   "id": "d6f64980",
   "metadata": {},
   "outputs": [],
   "source": [
    "# drop rows com NAN e 0\n",
    "phones_new=phones_new[phones_new['length_mm']!=0]\n",
    "phones_new=phones_new[phones_new['length_mm']!=\"\"]"
   ]
  },
  {
   "cell_type": "code",
   "execution_count": 118,
   "id": "0b77479f",
   "metadata": {},
   "outputs": [],
   "source": [
    "#troca o tipo (length_mm,Year, primary_cam_MP, secondary_cam_MP) para numerico\n",
    "phones_new['year'] = phones_new['year'].apply(lambda x: int(x))\n",
    "phones_new['primary_cam_MP'] = phones_new['primary_cam_MP'].apply(lambda x: float(x))\n",
    "phones_new['secondary_cam_MP'] = phones_new['secondary_cam_MP'].apply(lambda x: float(x))\n",
    "phones_new['length_mm']=phones_new['length_mm'].apply(lambda x: float(x))"
   ]
  },
  {
   "cell_type": "code",
   "execution_count": 119,
   "id": "2349916a",
   "metadata": {},
   "outputs": [
    {
     "data": {
      "text/plain": [
       "<AxesSubplot:>"
      ]
     },
     "execution_count": 119,
     "metadata": {},
     "output_type": "execute_result"
    },
    {
     "data": {
      "image/png": "[encoded data removed]",
      "text/plain": [
       "<Figure size 432x288 with 1 Axes>"
      ]
     },
     "metadata": {
      "needs_background": "light"
     },
     "output_type": "display_data"
    }
   ],
   "source": [
    "# dropa colunas com mais de 1,000 cells vazias\n",
    "phones_new.drop(['3G_bands','CPU','network_speed','Chipset','sensors','GPU','RAM'], axis=1, inplace=True)\n",
    "sns.heatmap(phones_new.isnull(),yticklabels=False,cbar=False,cmap='viridis')"
   ]
  },
  {
   "cell_type": "code",
   "execution_count": 120,
   "id": "03b6c168",
   "metadata": {},
   "outputs": [
    {
     "data": {
      "text/plain": [
       "<AxesSubplot:xlabel='year'>"
      ]
     },
     "execution_count": 120,
     "metadata": {},
     "output_type": "execute_result"
    },
    {
     "data": {
      "image/png": "[encoded data removed]",
      "text/plain": [
       "<Figure size 432x288 with 1 Axes>"
      ]
     },
     "metadata": {
      "needs_background": "light"
     },
     "output_type": "display_data"
    }
   ],
   "source": [
    "# SOMA OS PRECOS AO LONGO DOS ANOS\n",
    "group_year_prices=phones_new.groupby('year')['approx_price_EUR'].sum()\n",
    "group_year_prices.plot.bar()"
   ]
  },
  {
   "cell_type": "code",
   "execution_count": 121,
   "id": "314cf442",
   "metadata": {},
   "outputs": [
    {
     "data": {
      "text/plain": [
       "<AxesSubplot:xlabel='year'>"
      ]
     },
     "execution_count": 121,
     "metadata": {},
     "output_type": "execute_result"
    },
    {
     "data": {
      "image/png": "[encoded data removed]",
      "text/plain": [
       "<Figure size 432x288 with 1 Axes>"
      ]
     },
     "metadata": {
      "needs_background": "light"
     },
     "output_type": "display_data"
    }
   ],
   "source": [
    "# MEDIA DE PRECO POR ANO \n",
    "group_year_prices_mean=phones_new.groupby('year')['approx_price_EUR'].mean()\n",
    "group_year_prices_mean.plot.bar()\n"
   ]
  },
  {
   "cell_type": "code",
   "execution_count": 123,
   "id": "8cab8569",
   "metadata": {},
   "outputs": [
    {
     "data": {
      "image/png": "[encoded data removed]",
      "text/plain": [
       "<Figure size 864x576 with 1 Axes>"
      ]
     },
     "metadata": {
      "needs_background": "light"
     },
     "output_type": "display_data"
    }
   ],
   "source": [
    "# checando valores discrepantes nos meses\n",
    "phones_new_month=phones_new[['Month_new','approx_price_EUR']]\n",
    "plt.figure(figsize=(12,8))\n",
    "ax = sns.boxplot(x=\"Month_new\", y=\"approx_price_EUR\", data=phones_new_month,palette=\"Set3\")\n",
    "plt.show()\n"
   ]
  },
  {
   "cell_type": "code",
   "execution_count": 124,
   "id": "5ee3c964",
   "metadata": {},
   "outputs": [
    {
     "data": {
      "text/plain": [
       "101-200     29\n",
       "0-100       12\n",
       "201-300     10\n",
       "301-400      3\n",
       "401-500      0\n",
       "501-600      0\n",
       "601-700      0\n",
       "701-800      0\n",
       "801-900      0\n",
       "901-1000     0\n",
       "1001+        0\n",
       "Name: Range, dtype: int64"
      ]
     },
     "execution_count": 124,
     "metadata": {},
     "output_type": "execute_result"
    }
   ],
   "source": [
    "# DELCARA RANGES E VERIFICA O NUMERO DE SAMPLES P CADA RANGE\n",
    "bins = [0,100, 200, 300, 400, 500,600,700,800,900,1000, np.inf]\n",
    "names = ['0-100','101-200', '201-300', '301-400', '401-500', '501-600','601-700','701-800','801-900','901-1000','1001+']\n",
    "\n",
    "phones_new['Range'] = pd.cut(phones_new['approx_price_EUR'], bins, labels=names)\n",
    "phones_new['Range'].value_counts(dropna=False)"
   ]
  },
  {
   "cell_type": "code",
   "execution_count": 125,
   "id": "45807a70",
   "metadata": {},
   "outputs": [],
   "source": [
    "# Exclui linhas com preco maior que 1000 Euros\n",
    "phones_new = phones_new.drop(phones_new[(phones_new['approx_price_EUR'] >=1000)].index)"
   ]
  },
  {
   "cell_type": "code",
   "execution_count": 126,
   "id": "25daf8de",
   "metadata": {},
   "outputs": [
    {
     "data": {
      "image/png": "[encoded data removed]",
      "text/plain": [
       "<Figure size 1584x576 with 1 Axes>"
      ]
     },
     "metadata": {
      "needs_background": "light"
     },
     "output_type": "display_data"
    }
   ],
   "source": [
    "# Verifica preços apos exclusao de precos discrepantes - anual\n",
    "phones_new_year=phones_new[['year','approx_price_EUR']]\n",
    "plt.figure(figsize=(22,8))\n",
    "ax = sns.boxplot(x=\"year\", y=\"approx_price_EUR\", data=phones_new_year,palette=\"Set3\")\n",
    "plt.show()"
   ]
  },
  {
   "cell_type": "code",
   "execution_count": 127,
   "id": "8ae99717",
   "metadata": {},
   "outputs": [
    {
     "data": {
      "image/png": "[encoded data removed]",
      "text/plain": [
       "<Figure size 864x576 with 1 Axes>"
      ]
     },
     "metadata": {
      "needs_background": "light"
     },
     "output_type": "display_data"
    }
   ],
   "source": [
    "# Verifica preços apos exclusao de precos discrepantes - mensal\n",
    "phones_new_month=phones_new[['Month_new','approx_price_EUR']]\n",
    "plt.figure(figsize=(12,8))\n",
    "ax = sns.boxplot(x=\"Month_new\", y=\"approx_price_EUR\", data=phones_new_month,palette=\"Set3\")\n",
    "plt.show()"
   ]
  },
  {
   "cell_type": "code",
   "execution_count": 129,
   "id": "541d8017",
   "metadata": {},
   "outputs": [
    {
     "data": {
      "text/html": [
       "<div>\n",
       "<style scoped>\n",
       "    .dataframe tbody tr th:only-of-type {\n",
       "        vertical-align: middle;\n",
       "    }\n",
       "\n",
       "    .dataframe tbody tr th {\n",
       "        vertical-align: top;\n",
       "    }\n",
       "\n",
       "    .dataframe thead th {\n",
       "        text-align: right;\n",
       "    }\n",
       "</style>\n",
       "<table border=\"1\" class=\"dataframe\">\n",
       "  <thead>\n",
       "    <tr style=\"text-align: right;\">\n",
       "      <th></th>\n",
       "      <th>approx_price_EUR</th>\n",
       "      <th>OS</th>\n",
       "      <th>weight_g</th>\n",
       "      <th>weight_oz</th>\n",
       "      <th>GPS_new</th>\n",
       "      <th>primary_cam_MP</th>\n",
       "      <th>secondary_cam_MP</th>\n",
       "      <th>GPU_new</th>\n",
       "      <th>display_resolution_inches</th>\n",
       "      <th>length_mm</th>\n",
       "      <th>brand_idx</th>\n",
       "    </tr>\n",
       "  </thead>\n",
       "  <tbody>\n",
       "    <tr>\n",
       "      <th>approx_price_EUR</th>\n",
       "      <td>1.000000</td>\n",
       "      <td>-0.128142</td>\n",
       "      <td>0.312899</td>\n",
       "      <td>0.172270</td>\n",
       "      <td>0.067713</td>\n",
       "      <td>0.510146</td>\n",
       "      <td>0.354215</td>\n",
       "      <td>0.099789</td>\n",
       "      <td>0.398362</td>\n",
       "      <td>0.395707</td>\n",
       "      <td>-0.109015</td>\n",
       "    </tr>\n",
       "    <tr>\n",
       "      <th>OS</th>\n",
       "      <td>-0.128142</td>\n",
       "      <td>1.000000</td>\n",
       "      <td>-0.143768</td>\n",
       "      <td>-0.097140</td>\n",
       "      <td>0.261078</td>\n",
       "      <td>0.005674</td>\n",
       "      <td>0.022367</td>\n",
       "      <td>-0.167168</td>\n",
       "      <td>-0.111011</td>\n",
       "      <td>-0.101701</td>\n",
       "      <td>0.086043</td>\n",
       "    </tr>\n",
       "    <tr>\n",
       "      <th>weight_g</th>\n",
       "      <td>0.312899</td>\n",
       "      <td>-0.143768</td>\n",
       "      <td>1.000000</td>\n",
       "      <td>0.690189</td>\n",
       "      <td>0.084906</td>\n",
       "      <td>-0.064906</td>\n",
       "      <td>0.043698</td>\n",
       "      <td>0.188155</td>\n",
       "      <td>0.784598</td>\n",
       "      <td>0.758782</td>\n",
       "      <td>-0.400934</td>\n",
       "    </tr>\n",
       "    <tr>\n",
       "      <th>weight_oz</th>\n",
       "      <td>0.172270</td>\n",
       "      <td>-0.097140</td>\n",
       "      <td>0.690189</td>\n",
       "      <td>1.000000</td>\n",
       "      <td>0.024972</td>\n",
       "      <td>0.059094</td>\n",
       "      <td>0.072830</td>\n",
       "      <td>0.100213</td>\n",
       "      <td>0.458060</td>\n",
       "      <td>0.436534</td>\n",
       "      <td>-0.283444</td>\n",
       "    </tr>\n",
       "    <tr>\n",
       "      <th>GPS_new</th>\n",
       "      <td>0.067713</td>\n",
       "      <td>0.261078</td>\n",
       "      <td>0.084906</td>\n",
       "      <td>0.024972</td>\n",
       "      <td>1.000000</td>\n",
       "      <td>0.230631</td>\n",
       "      <td>0.177700</td>\n",
       "      <td>0.006067</td>\n",
       "      <td>-0.044765</td>\n",
       "      <td>0.004239</td>\n",
       "      <td>-0.009045</td>\n",
       "    </tr>\n",
       "    <tr>\n",
       "      <th>primary_cam_MP</th>\n",
       "      <td>0.510146</td>\n",
       "      <td>0.005674</td>\n",
       "      <td>-0.064906</td>\n",
       "      <td>0.059094</td>\n",
       "      <td>0.230631</td>\n",
       "      <td>1.000000</td>\n",
       "      <td>0.598363</td>\n",
       "      <td>0.183785</td>\n",
       "      <td>0.077570</td>\n",
       "      <td>0.105396</td>\n",
       "      <td>-0.048270</td>\n",
       "    </tr>\n",
       "    <tr>\n",
       "      <th>secondary_cam_MP</th>\n",
       "      <td>0.354215</td>\n",
       "      <td>0.022367</td>\n",
       "      <td>0.043698</td>\n",
       "      <td>0.072830</td>\n",
       "      <td>0.177700</td>\n",
       "      <td>0.598363</td>\n",
       "      <td>1.000000</td>\n",
       "      <td>0.177114</td>\n",
       "      <td>0.099712</td>\n",
       "      <td>0.197372</td>\n",
       "      <td>-0.279318</td>\n",
       "    </tr>\n",
       "    <tr>\n",
       "      <th>GPU_new</th>\n",
       "      <td>0.099789</td>\n",
       "      <td>-0.167168</td>\n",
       "      <td>0.188155</td>\n",
       "      <td>0.100213</td>\n",
       "      <td>0.006067</td>\n",
       "      <td>0.183785</td>\n",
       "      <td>0.177114</td>\n",
       "      <td>1.000000</td>\n",
       "      <td>0.172116</td>\n",
       "      <td>0.234107</td>\n",
       "      <td>-0.516878</td>\n",
       "    </tr>\n",
       "    <tr>\n",
       "      <th>display_resolution_inches</th>\n",
       "      <td>0.398362</td>\n",
       "      <td>-0.111011</td>\n",
       "      <td>0.784598</td>\n",
       "      <td>0.458060</td>\n",
       "      <td>-0.044765</td>\n",
       "      <td>0.077570</td>\n",
       "      <td>0.099712</td>\n",
       "      <td>0.172116</td>\n",
       "      <td>1.000000</td>\n",
       "      <td>0.921281</td>\n",
       "      <td>-0.331999</td>\n",
       "    </tr>\n",
       "    <tr>\n",
       "      <th>length_mm</th>\n",
       "      <td>0.395707</td>\n",
       "      <td>-0.101701</td>\n",
       "      <td>0.758782</td>\n",
       "      <td>0.436534</td>\n",
       "      <td>0.004239</td>\n",
       "      <td>0.105396</td>\n",
       "      <td>0.197372</td>\n",
       "      <td>0.234107</td>\n",
       "      <td>0.921281</td>\n",
       "      <td>1.000000</td>\n",
       "      <td>-0.379539</td>\n",
       "    </tr>\n",
       "    <tr>\n",
       "      <th>brand_idx</th>\n",
       "      <td>-0.109015</td>\n",
       "      <td>0.086043</td>\n",
       "      <td>-0.400934</td>\n",
       "      <td>-0.283444</td>\n",
       "      <td>-0.009045</td>\n",
       "      <td>-0.048270</td>\n",
       "      <td>-0.279318</td>\n",
       "      <td>-0.516878</td>\n",
       "      <td>-0.331999</td>\n",
       "      <td>-0.379539</td>\n",
       "      <td>1.000000</td>\n",
       "    </tr>\n",
       "  </tbody>\n",
       "</table>\n",
       "</div>"
      ],
      "text/plain": [
       "                           approx_price_EUR        OS  weight_g  weight_oz  \\\n",
       "approx_price_EUR                   1.000000 -0.128142  0.312899   0.172270   \n",
       "OS                                -0.128142  1.000000 -0.143768  -0.097140   \n",
       "weight_g                           0.312899 -0.143768  1.000000   0.690189   \n",
       "weight_oz                          0.172270 -0.097140  0.690189   1.000000   \n",
       "GPS_new                            0.067713  0.261078  0.084906   0.024972   \n",
       "primary_cam_MP                     0.510146  0.005674 -0.064906   0.059094   \n",
       "secondary_cam_MP                   0.354215  0.022367  0.043698   0.072830   \n",
       "GPU_new                            0.099789 -0.167168  0.188155   0.100213   \n",
       "display_resolution_inches          0.398362 -0.111011  0.784598   0.458060   \n",
       "length_mm                          0.395707 -0.101701  0.758782   0.436534   \n",
       "brand_idx                         -0.109015  0.086043 -0.400934  -0.283444   \n",
       "\n",
       "                            GPS_new  primary_cam_MP  secondary_cam_MP  \\\n",
       "approx_price_EUR           0.067713        0.510146          0.354215   \n",
       "OS                         0.261078        0.005674          0.022367   \n",
       "weight_g                   0.084906       -0.064906          0.043698   \n",
       "weight_oz                  0.024972        0.059094          0.072830   \n",
       "GPS_new                    1.000000        0.230631          0.177700   \n",
       "primary_cam_MP             0.230631        1.000000          0.598363   \n",
       "secondary_cam_MP           0.177700        0.598363          1.000000   \n",
       "GPU_new                    0.006067        0.183785          0.177114   \n",
       "display_resolution_inches -0.044765        0.077570          0.099712   \n",
       "length_mm                  0.004239        0.105396          0.197372   \n",
       "brand_idx                 -0.009045       -0.048270         -0.279318   \n",
       "\n",
       "                            GPU_new  display_resolution_inches  length_mm  \\\n",
       "approx_price_EUR           0.099789                   0.398362   0.395707   \n",
       "OS                        -0.167168                  -0.111011  -0.101701   \n",
       "weight_g                   0.188155                   0.784598   0.758782   \n",
       "weight_oz                  0.100213                   0.458060   0.436534   \n",
       "GPS_new                    0.006067                  -0.044765   0.004239   \n",
       "primary_cam_MP             0.183785                   0.077570   0.105396   \n",
       "secondary_cam_MP           0.177114                   0.099712   0.197372   \n",
       "GPU_new                    1.000000                   0.172116   0.234107   \n",
       "display_resolution_inches  0.172116                   1.000000   0.921281   \n",
       "length_mm                  0.234107                   0.921281   1.000000   \n",
       "brand_idx                 -0.516878                  -0.331999  -0.379539   \n",
       "\n",
       "                           brand_idx  \n",
       "approx_price_EUR           -0.109015  \n",
       "OS                          0.086043  \n",
       "weight_g                   -0.400934  \n",
       "weight_oz                  -0.283444  \n",
       "GPS_new                    -0.009045  \n",
       "primary_cam_MP             -0.048270  \n",
       "secondary_cam_MP           -0.279318  \n",
       "GPU_new                    -0.516878  \n",
       "display_resolution_inches  -0.331999  \n",
       "length_mm                  -0.379539  \n",
       "brand_idx                   1.000000  "
      ]
     },
     "execution_count": 129,
     "metadata": {},
     "output_type": "execute_result"
    }
   ],
   "source": [
    "# cria subdata de numeros e colunas bool para ver correspondência \n",
    "phones_corr=phones_new[['approx_price_EUR','OS','weight_g','weight_oz', 'GPS_new', 'primary_cam_MP', 'secondary_cam_MP','GPU_new', 'battery_removable',\n",
    "       'display_resolution_inches', 'length_mm','brand_idx']]\n",
    "phones_corr.corr(method ='kendall')"
   ]
  },
  {
   "cell_type": "code",
   "execution_count": 130,
   "id": "a24661ee",
   "metadata": {},
   "outputs": [
    {
     "ename": "ValueError",
     "evalue": "The number of FixedLocator locations (11), usually from a call to set_ticks, does not match the number of ticklabels (12).",
     "output_type": "error",
     "traceback": [
      "\u001b[1;31m---------------------------------------------------------------------------\u001b[0m",
      "\u001b[1;31mValueError\u001b[0m                                Traceback (most recent call last)",
      "\u001b[1;32m~\\AppData\\Local\\Temp/ipykernel_7432/2689938941.py\u001b[0m in \u001b[0;36m<module>\u001b[1;34m\u001b[0m\n\u001b[0;32m      9\u001b[0m \u001b[0mplt\u001b[0m\u001b[1;33m.\u001b[0m\u001b[0mxticks\u001b[0m\u001b[1;33m(\u001b[0m\u001b[0mrotation\u001b[0m\u001b[1;33m=\u001b[0m\u001b[1;36m90\u001b[0m\u001b[1;33m)\u001b[0m\u001b[1;33m\u001b[0m\u001b[1;33m\u001b[0m\u001b[0m\n\u001b[0;32m     10\u001b[0m \u001b[0max\u001b[0m\u001b[1;33m.\u001b[0m\u001b[0mset_yticks\u001b[0m\u001b[1;33m(\u001b[0m\u001b[0mticks\u001b[0m\u001b[1;33m)\u001b[0m\u001b[1;33m\u001b[0m\u001b[1;33m\u001b[0m\u001b[0m\n\u001b[1;32m---> 11\u001b[1;33m \u001b[0max\u001b[0m\u001b[1;33m.\u001b[0m\u001b[0mset_xticklabels\u001b[0m\u001b[1;33m(\u001b[0m\u001b[0mphones_corr\u001b[0m\u001b[1;33m.\u001b[0m\u001b[0mcolumns\u001b[0m\u001b[1;33m)\u001b[0m\u001b[1;33m\u001b[0m\u001b[1;33m\u001b[0m\u001b[0m\n\u001b[0m\u001b[0;32m     12\u001b[0m \u001b[0max\u001b[0m\u001b[1;33m.\u001b[0m\u001b[0mset_yticklabels\u001b[0m\u001b[1;33m(\u001b[0m\u001b[0mphones_corr\u001b[0m\u001b[1;33m.\u001b[0m\u001b[0mcolumns\u001b[0m\u001b[1;33m)\u001b[0m\u001b[1;33m\u001b[0m\u001b[1;33m\u001b[0m\u001b[0m\n\u001b[0;32m     13\u001b[0m \u001b[0mplt\u001b[0m\u001b[1;33m.\u001b[0m\u001b[0mshow\u001b[0m\u001b[1;33m(\u001b[0m\u001b[1;33m)\u001b[0m\u001b[1;33m\u001b[0m\u001b[1;33m\u001b[0m\u001b[0m\n",
      "\u001b[1;32m~\\anaconda3\\lib\\site-packages\\matplotlib\\axes\\_base.py\u001b[0m in \u001b[0;36mwrapper\u001b[1;34m(self, *args, **kwargs)\u001b[0m\n\u001b[0;32m     71\u001b[0m \u001b[1;33m\u001b[0m\u001b[0m\n\u001b[0;32m     72\u001b[0m         \u001b[1;32mdef\u001b[0m \u001b[0mwrapper\u001b[0m\u001b[1;33m(\u001b[0m\u001b[0mself\u001b[0m\u001b[1;33m,\u001b[0m \u001b[1;33m*\u001b[0m\u001b[0margs\u001b[0m\u001b[1;33m,\u001b[0m \u001b[1;33m**\u001b[0m\u001b[0mkwargs\u001b[0m\u001b[1;33m)\u001b[0m\u001b[1;33m:\u001b[0m\u001b[1;33m\u001b[0m\u001b[1;33m\u001b[0m\u001b[0m\n\u001b[1;32m---> 73\u001b[1;33m             \u001b[1;32mreturn\u001b[0m \u001b[0mget_method\u001b[0m\u001b[1;33m(\u001b[0m\u001b[0mself\u001b[0m\u001b[1;33m)\u001b[0m\u001b[1;33m(\u001b[0m\u001b[1;33m*\u001b[0m\u001b[0margs\u001b[0m\u001b[1;33m,\u001b[0m \u001b[1;33m**\u001b[0m\u001b[0mkwargs\u001b[0m\u001b[1;33m)\u001b[0m\u001b[1;33m\u001b[0m\u001b[1;33m\u001b[0m\u001b[0m\n\u001b[0m\u001b[0;32m     74\u001b[0m \u001b[1;33m\u001b[0m\u001b[0m\n\u001b[0;32m     75\u001b[0m         \u001b[0mwrapper\u001b[0m\u001b[1;33m.\u001b[0m\u001b[0m__module__\u001b[0m \u001b[1;33m=\u001b[0m \u001b[0mowner\u001b[0m\u001b[1;33m.\u001b[0m\u001b[0m__module__\u001b[0m\u001b[1;33m\u001b[0m\u001b[1;33m\u001b[0m\u001b[0m\n",
      "\u001b[1;32m~\\anaconda3\\lib\\site-packages\\matplotlib\\_api\\deprecation.py\u001b[0m in \u001b[0;36mwrapper\u001b[1;34m(*args, **kwargs)\u001b[0m\n\u001b[0;32m    469\u001b[0m                 \u001b[1;34m\"parameter will become keyword-only %(removal)s.\"\u001b[0m\u001b[1;33m,\u001b[0m\u001b[1;33m\u001b[0m\u001b[1;33m\u001b[0m\u001b[0m\n\u001b[0;32m    470\u001b[0m                 name=name, obj_type=f\"parameter of {func.__name__}()\")\n\u001b[1;32m--> 471\u001b[1;33m         \u001b[1;32mreturn\u001b[0m \u001b[0mfunc\u001b[0m\u001b[1;33m(\u001b[0m\u001b[1;33m*\u001b[0m\u001b[0margs\u001b[0m\u001b[1;33m,\u001b[0m \u001b[1;33m**\u001b[0m\u001b[0mkwargs\u001b[0m\u001b[1;33m)\u001b[0m\u001b[1;33m\u001b[0m\u001b[1;33m\u001b[0m\u001b[0m\n\u001b[0m\u001b[0;32m    472\u001b[0m \u001b[1;33m\u001b[0m\u001b[0m\n\u001b[0;32m    473\u001b[0m     \u001b[1;32mreturn\u001b[0m \u001b[0mwrapper\u001b[0m\u001b[1;33m\u001b[0m\u001b[1;33m\u001b[0m\u001b[0m\n",
      "\u001b[1;32m~\\anaconda3\\lib\\site-packages\\matplotlib\\axis.py\u001b[0m in \u001b[0;36m_set_ticklabels\u001b[1;34m(self, labels, fontdict, minor, **kwargs)\u001b[0m\n\u001b[0;32m   1793\u001b[0m         \u001b[1;32mif\u001b[0m \u001b[0mfontdict\u001b[0m \u001b[1;32mis\u001b[0m \u001b[1;32mnot\u001b[0m \u001b[1;32mNone\u001b[0m\u001b[1;33m:\u001b[0m\u001b[1;33m\u001b[0m\u001b[1;33m\u001b[0m\u001b[0m\n\u001b[0;32m   1794\u001b[0m             \u001b[0mkwargs\u001b[0m\u001b[1;33m.\u001b[0m\u001b[0mupdate\u001b[0m\u001b[1;33m(\u001b[0m\u001b[0mfontdict\u001b[0m\u001b[1;33m)\u001b[0m\u001b[1;33m\u001b[0m\u001b[1;33m\u001b[0m\u001b[0m\n\u001b[1;32m-> 1795\u001b[1;33m         \u001b[1;32mreturn\u001b[0m \u001b[0mself\u001b[0m\u001b[1;33m.\u001b[0m\u001b[0mset_ticklabels\u001b[0m\u001b[1;33m(\u001b[0m\u001b[0mlabels\u001b[0m\u001b[1;33m,\u001b[0m \u001b[0mminor\u001b[0m\u001b[1;33m=\u001b[0m\u001b[0mminor\u001b[0m\u001b[1;33m,\u001b[0m \u001b[1;33m**\u001b[0m\u001b[0mkwargs\u001b[0m\u001b[1;33m)\u001b[0m\u001b[1;33m\u001b[0m\u001b[1;33m\u001b[0m\u001b[0m\n\u001b[0m\u001b[0;32m   1796\u001b[0m \u001b[1;33m\u001b[0m\u001b[0m\n\u001b[0;32m   1797\u001b[0m     \u001b[1;32mdef\u001b[0m \u001b[0mset_ticks\u001b[0m\u001b[1;33m(\u001b[0m\u001b[0mself\u001b[0m\u001b[1;33m,\u001b[0m \u001b[0mticks\u001b[0m\u001b[1;33m,\u001b[0m \u001b[1;33m*\u001b[0m\u001b[1;33m,\u001b[0m \u001b[0mminor\u001b[0m\u001b[1;33m=\u001b[0m\u001b[1;32mFalse\u001b[0m\u001b[1;33m)\u001b[0m\u001b[1;33m:\u001b[0m\u001b[1;33m\u001b[0m\u001b[1;33m\u001b[0m\u001b[0m\n",
      "\u001b[1;32m~\\anaconda3\\lib\\site-packages\\matplotlib\\axis.py\u001b[0m in \u001b[0;36mset_ticklabels\u001b[1;34m(self, ticklabels, minor, **kwargs)\u001b[0m\n\u001b[0;32m   1714\u001b[0m             \u001b[1;31m# remove all tick labels, so only error for > 0 ticklabels\u001b[0m\u001b[1;33m\u001b[0m\u001b[1;33m\u001b[0m\u001b[0m\n\u001b[0;32m   1715\u001b[0m             \u001b[1;32mif\u001b[0m \u001b[0mlen\u001b[0m\u001b[1;33m(\u001b[0m\u001b[0mlocator\u001b[0m\u001b[1;33m.\u001b[0m\u001b[0mlocs\u001b[0m\u001b[1;33m)\u001b[0m \u001b[1;33m!=\u001b[0m \u001b[0mlen\u001b[0m\u001b[1;33m(\u001b[0m\u001b[0mticklabels\u001b[0m\u001b[1;33m)\u001b[0m \u001b[1;32mand\u001b[0m \u001b[0mlen\u001b[0m\u001b[1;33m(\u001b[0m\u001b[0mticklabels\u001b[0m\u001b[1;33m)\u001b[0m \u001b[1;33m!=\u001b[0m \u001b[1;36m0\u001b[0m\u001b[1;33m:\u001b[0m\u001b[1;33m\u001b[0m\u001b[1;33m\u001b[0m\u001b[0m\n\u001b[1;32m-> 1716\u001b[1;33m                 raise ValueError(\n\u001b[0m\u001b[0;32m   1717\u001b[0m                     \u001b[1;34m\"The number of FixedLocator locations\"\u001b[0m\u001b[1;33m\u001b[0m\u001b[1;33m\u001b[0m\u001b[0m\n\u001b[0;32m   1718\u001b[0m                     \u001b[1;34mf\" ({len(locator.locs)}), usually from a call to\"\u001b[0m\u001b[1;33m\u001b[0m\u001b[1;33m\u001b[0m\u001b[0m\n",
      "\u001b[1;31mValueError\u001b[0m: The number of FixedLocator locations (11), usually from a call to set_ticks, does not match the number of ticklabels (12)."
     ]
    },
    {
     "data": {
      "image/png": "[encoded data removed]",
      "text/plain": [
       "<Figure size 720x432 with 2 Axes>"
      ]
     },
     "metadata": {
      "needs_background": "light"
     },
     "output_type": "display_data"
    }
   ],
   "source": [
    "# Heatmap - verifica importantes recursos\n",
    "corr=phones_corr.corr()\n",
    "fig=plt.figure(figsize=(10,6))\n",
    "ax=fig.add_subplot(111)\n",
    "cax=ax.matshow(corr,cmap='coolwarm',vmin=-1, vmax=1)\n",
    "fig.colorbar(cax)\n",
    "ticks=np.arange(0,len(phones_corr.columns)-1,1)\n",
    "ax.set_xticks(ticks)\n",
    "plt.xticks(rotation=90)\n",
    "ax.set_yticks(ticks)\n",
    "ax.set_xticklabels(phones_corr.columns)\n",
    "ax.set_yticklabels(phones_corr.columns)\n",
    "plt.show()"
   ]
  },
  {
   "cell_type": "code",
   "execution_count": 136,
   "id": "3abae3e1",
   "metadata": {},
   "outputs": [],
   "source": [
    "phones_ready=phones_new[['approx_price_EUR','OS','weight_g','weight_oz', 'GPS_new', 'primary_cam_MP', 'secondary_cam_MP','GPU_new', 'battery_removable',\n",
    "       'display_resolution_inches', 'length_mm','width_mm','brand_idx']]"
   ]
  },
  {
   "cell_type": "code",
   "execution_count": 139,
   "id": "805db6f2",
   "metadata": {},
   "outputs": [],
   "source": [
    "phones_ready=phones_ready.dropna(subset=['length_mm','width_mm','battery_removable'])\n",
    "\n",
    "phones_ready['weight_g'].fillna(phones_ready['weight_g'].mean(),inplace=True)\n",
    "phones_ready['weight_oz'].fillna(phones_ready['weight_oz'].mean(),inplace=True)\n",
    "phones_ready['battery_removable'] = phones_ready['battery_removable'].apply(lambda x: bool(x))"
   ]
  },
  {
   "cell_type": "code",
   "execution_count": 140,
   "id": "2da55c19",
   "metadata": {},
   "outputs": [
    {
     "data": {
      "text/plain": [
       "200    17\n",
       "100    10\n",
       "150     9\n",
       "250     7\n",
       "300     3\n",
       "350     3\n",
       "50      1\n",
       "400     0\n",
       "450     0\n",
       "500     0\n",
       "800     0\n",
       "Name: price_Range, dtype: int64"
      ]
     },
     "execution_count": 140,
     "metadata": {},
     "output_type": "execute_result"
    }
   ],
   "source": [
    "# Define ranges para cada grupo de classificação \n",
    "bins = [0,50, 100, 150, 200, 250,300,350,400,450,500, np.inf]\n",
    "names = [50,100, 150, 200, 250,300,350,400,450,500,800]\n",
    "\n",
    "phones_ready['price_Range'] = pd.cut(phones_ready['approx_price_EUR'], bins, labels=names)\n",
    "phones_ready['price_Range'].value_counts(dropna=False)"
   ]
  },
  {
   "cell_type": "code",
   "execution_count": 141,
   "id": "3cfeafdb",
   "metadata": {},
   "outputs": [
    {
     "name": "stdout",
     "output_type": "stream",
     "text": [
      "<class 'pandas.core.frame.DataFrame'>\n",
      "Int64Index: 50 entries, 0 to 60\n",
      "Data columns (total 14 columns):\n",
      " #   Column                     Non-Null Count  Dtype   \n",
      "---  ------                     --------------  -----   \n",
      " 0   approx_price_EUR           50 non-null     float64 \n",
      " 1   OS                         50 non-null     int64   \n",
      " 2   weight_g                   50 non-null     float64 \n",
      " 3   weight_oz                  50 non-null     float64 \n",
      " 4   GPS_new                    50 non-null     bool    \n",
      " 5   primary_cam_MP             50 non-null     float64 \n",
      " 6   secondary_cam_MP           50 non-null     float64 \n",
      " 7   GPU_new                    50 non-null     int64   \n",
      " 8   battery_removable          50 non-null     bool    \n",
      " 9   display_resolution_inches  50 non-null     float64 \n",
      " 10  length_mm                  50 non-null     float64 \n",
      " 11  width_mm                   50 non-null     float64 \n",
      " 12  brand_idx                  50 non-null     int64   \n",
      " 13  price_Range                50 non-null     category\n",
      "dtypes: bool(2), category(1), float64(8), int64(3)\n",
      "memory usage: 5.2 KB\n"
     ]
    }
   ],
   "source": [
    "phones_ready.info()"
   ]
  },
  {
   "cell_type": "code",
   "execution_count": null,
   "id": "daf1e157",
   "metadata": {},
   "outputs": [],
   "source": []
  }
 ],
 "metadata": {
  "kernelspec": {
   "display_name": "Python 3 (ipykernel)",
   "language": "python",
   "name": "python3"
  },
  "language_info": {
   "codemirror_mode": {
    "name": "ipython",
    "version": 3
   },
   "file_extension": ".py",
   "mimetype": "text/x-python",
   "name": "python",
   "nbconvert_exporter": "python",
   "pygments_lexer": "ipython3",
   "version": "3.9.7"
  }
 },
 "nbformat": 4,
 "nbformat_minor": 5
}
